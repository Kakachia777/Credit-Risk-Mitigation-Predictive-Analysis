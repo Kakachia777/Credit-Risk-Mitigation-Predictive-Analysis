{
  "nbformat": 4,
  "nbformat_minor": 0,
  "metadata": {
    "colab": {
      "name": "MML_code.ipynb",
      "provenance": [],
      "collapsed_sections": []
    },
    "kernelspec": {
      "display_name": "Python 3",
      "language": "python",
      "name": "python3"
    },
    "language_info": {
      "codemirror_mode": {
        "name": "ipython",
        "version": 3
      },
      "file_extension": ".py",
      "mimetype": "text/x-python",
      "name": "python",
      "nbconvert_exporter": "python",
      "pygments_lexer": "ipython3",
      "version": "3.7.6"
    }
  },
  "cells": [
    {
      "cell_type": "code",
      "metadata": {
        "id": "I6xBUMdozpip",
        "outputId": "ce76066a-afbf-43d8-e74d-c1fcc951ffcf",
        "colab": {
          "base_uri": "https://localhost:8080/",
          "height": 146
        }
      },
      "source": [
        "# IMPORT LIBRARIES\n",
        "\n",
        "import os\n",
        "import sys\n",
        "import numpy as np # linear algebra\n",
        "import pandas as pd # data processing, CSV file I/O (e.g. pd.read_csv)\n",
        "from pandas import set_option\n",
        "import matplotlib\n",
        "import matplotlib.pyplot as plt\n",
        "from matplotlib.font_manager import FontProperties\n",
        "import seaborn as sns\n",
        "%matplotlib inline \n",
        "\n",
        "# from sklearn.preprocessing import StandardScaler\n",
        "from sklearn.preprocessing import MinMaxScaler\n",
        "\n",
        "# import performance metrics/measures\n",
        "from sklearn.metrics import accuracy_score, precision_score, recall_score, f1_score, classification_report\n",
        "\n",
        "# from imblearn.under_sampling import KMeansSMOTE\n",
        "from imblearn.over_sampling import SMOTE\n",
        "from imblearn.pipeline import make_pipeline"
      ],
      "execution_count": 1,
      "outputs": [
        {
          "output_type": "stream",
          "text": [
            "/usr/local/lib/python3.6/dist-packages/statsmodels/tools/_testing.py:19: FutureWarning: pandas.util.testing is deprecated. Use the functions in the public API at pandas.testing instead.\n",
            "  import pandas.util.testing as tm\n",
            "/usr/local/lib/python3.6/dist-packages/sklearn/externals/six.py:31: FutureWarning: The module is deprecated in version 0.21 and will be removed in version 0.23 since we've dropped support for Python 2.7. Please rely on the official version of six (https://pypi.org/project/six/).\n",
            "  \"(https://pypi.org/project/six/).\", FutureWarning)\n",
            "/usr/local/lib/python3.6/dist-packages/sklearn/utils/deprecation.py:144: FutureWarning: The sklearn.neighbors.base module is  deprecated in version 0.22 and will be removed in version 0.24. The corresponding classes / functions should instead be imported from sklearn.neighbors. Anything that cannot be imported from sklearn.neighbors is now part of the private API.\n",
            "  warnings.warn(message, FutureWarning)\n"
          ],
          "name": "stderr"
        }
      ]
    },
    {
      "cell_type": "code",
      "metadata": {
        "id": "0ukT_B-Ozpiv"
      },
      "source": [
        "# VARIABLES\n",
        "\n",
        "# created a .csv version of the original dataset (.xls)\n",
        "INPUT_PATH = \"https://raw.githubusercontent.com/robertofranceschi/default-credit-card-prediction/master/dataset/default%20of%20credit%20card%20clients.csv\"\n",
        "\n",
        "# SCALER = 'std'  # else 'minmax'\n",
        "\n",
        "SHOW_FIGURE = False \n",
        "\n",
        "# preprocessing\n",
        "FEATURE_SELECTION = False  # if 'True' Feature Selection will be applied (i.e. 'BILL_AMT2', 'BILL_AMT3', 'BILL_AMT4', 'BILL_AMT5', 'BILL_AMT6' will be removed)\n",
        "APPLY_PCA = False                # if 'True' Principal Component Analysis will be applied\n",
        "APPLY_OVERSAMPLING = False       # if 'True' SMOTE Oversampling will be applied\n",
        "\n",
        "RANDOM_STATE = 42   # fixed in order to have comparable results\n",
        "\n",
        "# Pandas options\n",
        "set_option('display.max_colwidth', None)\n",
        "set_option('precision', 2)"
      ],
      "execution_count": 2,
      "outputs": []
    },
    {
      "cell_type": "code",
      "metadata": {
        "id": "BxnRfbe3zpi1",
        "scrolled": false,
        "outputId": "c4004e0a-922f-496f-fd7a-33b43c2f14ef",
        "colab": {
          "base_uri": "https://localhost:8080/",
          "height": 217
        }
      },
      "source": [
        "# read input\n",
        "data = pd.read_csv(INPUT_PATH)\n",
        "data.head()"
      ],
      "execution_count": 3,
      "outputs": [
        {
          "output_type": "execute_result",
          "data": {
            "text/html": [
              "<div>\n",
              "<style scoped>\n",
              "    .dataframe tbody tr th:only-of-type {\n",
              "        vertical-align: middle;\n",
              "    }\n",
              "\n",
              "    .dataframe tbody tr th {\n",
              "        vertical-align: top;\n",
              "    }\n",
              "\n",
              "    .dataframe thead th {\n",
              "        text-align: right;\n",
              "    }\n",
              "</style>\n",
              "<table border=\"1\" class=\"dataframe\">\n",
              "  <thead>\n",
              "    <tr style=\"text-align: right;\">\n",
              "      <th></th>\n",
              "      <th>ID</th>\n",
              "      <th>LIMIT_BAL</th>\n",
              "      <th>SEX</th>\n",
              "      <th>EDUCATION</th>\n",
              "      <th>MARRIAGE</th>\n",
              "      <th>AGE</th>\n",
              "      <th>PAY_0</th>\n",
              "      <th>PAY_2</th>\n",
              "      <th>PAY_3</th>\n",
              "      <th>PAY_4</th>\n",
              "      <th>PAY_5</th>\n",
              "      <th>PAY_6</th>\n",
              "      <th>BILL_AMT1</th>\n",
              "      <th>BILL_AMT2</th>\n",
              "      <th>BILL_AMT3</th>\n",
              "      <th>BILL_AMT4</th>\n",
              "      <th>BILL_AMT5</th>\n",
              "      <th>BILL_AMT6</th>\n",
              "      <th>PAY_AMT1</th>\n",
              "      <th>PAY_AMT2</th>\n",
              "      <th>PAY_AMT3</th>\n",
              "      <th>PAY_AMT4</th>\n",
              "      <th>PAY_AMT5</th>\n",
              "      <th>PAY_AMT6</th>\n",
              "      <th>default.payment.next.month</th>\n",
              "    </tr>\n",
              "  </thead>\n",
              "  <tbody>\n",
              "    <tr>\n",
              "      <th>0</th>\n",
              "      <td>1</td>\n",
              "      <td>20000.0</td>\n",
              "      <td>2</td>\n",
              "      <td>2</td>\n",
              "      <td>1</td>\n",
              "      <td>24</td>\n",
              "      <td>2</td>\n",
              "      <td>2</td>\n",
              "      <td>-1</td>\n",
              "      <td>-1</td>\n",
              "      <td>-2</td>\n",
              "      <td>-2</td>\n",
              "      <td>3913.0</td>\n",
              "      <td>3102.0</td>\n",
              "      <td>689.0</td>\n",
              "      <td>0.0</td>\n",
              "      <td>0.0</td>\n",
              "      <td>0.0</td>\n",
              "      <td>0.0</td>\n",
              "      <td>689.0</td>\n",
              "      <td>0.0</td>\n",
              "      <td>0.0</td>\n",
              "      <td>0.0</td>\n",
              "      <td>0.0</td>\n",
              "      <td>1</td>\n",
              "    </tr>\n",
              "    <tr>\n",
              "      <th>1</th>\n",
              "      <td>2</td>\n",
              "      <td>120000.0</td>\n",
              "      <td>2</td>\n",
              "      <td>2</td>\n",
              "      <td>2</td>\n",
              "      <td>26</td>\n",
              "      <td>-1</td>\n",
              "      <td>2</td>\n",
              "      <td>0</td>\n",
              "      <td>0</td>\n",
              "      <td>0</td>\n",
              "      <td>2</td>\n",
              "      <td>2682.0</td>\n",
              "      <td>1725.0</td>\n",
              "      <td>2682.0</td>\n",
              "      <td>3272.0</td>\n",
              "      <td>3455.0</td>\n",
              "      <td>3261.0</td>\n",
              "      <td>0.0</td>\n",
              "      <td>1000.0</td>\n",
              "      <td>1000.0</td>\n",
              "      <td>1000.0</td>\n",
              "      <td>0.0</td>\n",
              "      <td>2000.0</td>\n",
              "      <td>1</td>\n",
              "    </tr>\n",
              "    <tr>\n",
              "      <th>2</th>\n",
              "      <td>3</td>\n",
              "      <td>90000.0</td>\n",
              "      <td>2</td>\n",
              "      <td>2</td>\n",
              "      <td>2</td>\n",
              "      <td>34</td>\n",
              "      <td>0</td>\n",
              "      <td>0</td>\n",
              "      <td>0</td>\n",
              "      <td>0</td>\n",
              "      <td>0</td>\n",
              "      <td>0</td>\n",
              "      <td>29239.0</td>\n",
              "      <td>14027.0</td>\n",
              "      <td>13559.0</td>\n",
              "      <td>14331.0</td>\n",
              "      <td>14948.0</td>\n",
              "      <td>15549.0</td>\n",
              "      <td>1518.0</td>\n",
              "      <td>1500.0</td>\n",
              "      <td>1000.0</td>\n",
              "      <td>1000.0</td>\n",
              "      <td>1000.0</td>\n",
              "      <td>5000.0</td>\n",
              "      <td>0</td>\n",
              "    </tr>\n",
              "    <tr>\n",
              "      <th>3</th>\n",
              "      <td>4</td>\n",
              "      <td>50000.0</td>\n",
              "      <td>2</td>\n",
              "      <td>2</td>\n",
              "      <td>1</td>\n",
              "      <td>37</td>\n",
              "      <td>0</td>\n",
              "      <td>0</td>\n",
              "      <td>0</td>\n",
              "      <td>0</td>\n",
              "      <td>0</td>\n",
              "      <td>0</td>\n",
              "      <td>46990.0</td>\n",
              "      <td>48233.0</td>\n",
              "      <td>49291.0</td>\n",
              "      <td>28314.0</td>\n",
              "      <td>28959.0</td>\n",
              "      <td>29547.0</td>\n",
              "      <td>2000.0</td>\n",
              "      <td>2019.0</td>\n",
              "      <td>1200.0</td>\n",
              "      <td>1100.0</td>\n",
              "      <td>1069.0</td>\n",
              "      <td>1000.0</td>\n",
              "      <td>0</td>\n",
              "    </tr>\n",
              "    <tr>\n",
              "      <th>4</th>\n",
              "      <td>5</td>\n",
              "      <td>50000.0</td>\n",
              "      <td>1</td>\n",
              "      <td>2</td>\n",
              "      <td>1</td>\n",
              "      <td>57</td>\n",
              "      <td>-1</td>\n",
              "      <td>0</td>\n",
              "      <td>-1</td>\n",
              "      <td>0</td>\n",
              "      <td>0</td>\n",
              "      <td>0</td>\n",
              "      <td>8617.0</td>\n",
              "      <td>5670.0</td>\n",
              "      <td>35835.0</td>\n",
              "      <td>20940.0</td>\n",
              "      <td>19146.0</td>\n",
              "      <td>19131.0</td>\n",
              "      <td>2000.0</td>\n",
              "      <td>36681.0</td>\n",
              "      <td>10000.0</td>\n",
              "      <td>9000.0</td>\n",
              "      <td>689.0</td>\n",
              "      <td>679.0</td>\n",
              "      <td>0</td>\n",
              "    </tr>\n",
              "  </tbody>\n",
              "</table>\n",
              "</div>"
            ],
            "text/plain": [
              "   ID  LIMIT_BAL  SEX  ...  PAY_AMT5  PAY_AMT6  default.payment.next.month\n",
              "0   1    20000.0    2  ...       0.0       0.0                           1\n",
              "1   2   120000.0    2  ...       0.0    2000.0                           1\n",
              "2   3    90000.0    2  ...    1000.0    5000.0                           0\n",
              "3   4    50000.0    2  ...    1069.0    1000.0                           0\n",
              "4   5    50000.0    1  ...     689.0     679.0                           0\n",
              "\n",
              "[5 rows x 25 columns]"
            ]
          },
          "metadata": {
            "tags": []
          },
          "execution_count": 3
        }
      ]
    },
    {
      "cell_type": "code",
      "metadata": {
        "id": "605gSlh9zpj9"
      },
      "source": [
        "# Dataset balanced?\n",
        "if SHOW_FIGURE :\n",
        "    font = FontProperties()\n",
        "    font.set_family(['Times New Roman', 'serif'])\n",
        "    font.set_size(14)\n",
        "\n",
        "    plt.figure(figsize = (6,6))\n",
        "    sns.countplot('default.payment.next.month', data=data, palette=['steelblue','crimson'])\n",
        "    # plt.title('Class Distribution Histogram', fontsize=14)\n",
        "    plt.xticks([0,1],['Not default','Default'],fontproperties=font)\n",
        "    plt.ylabel('# of samples', fontproperties=font)\n",
        "    plt.xlabel('')\n",
        "    # plt.show()\n",
        "    plt.savefig('Fig - Class Distribution Histogram.png')"
      ],
      "execution_count": 4,
      "outputs": []
    },
    {
      "cell_type": "code",
      "metadata": {
        "id": "YcYnM4BmKGyV",
        "outputId": "27a06bc3-16dd-484e-b740-81041249127a",
        "colab": {
          "base_uri": "https://localhost:8080/",
          "height": 488
        }
      },
      "source": [
        "# Check data types \n",
        "data.dtypes"
      ],
      "execution_count": 5,
      "outputs": [
        {
          "output_type": "execute_result",
          "data": {
            "text/plain": [
              "ID                              int64\n",
              "LIMIT_BAL                     float64\n",
              "SEX                             int64\n",
              "EDUCATION                       int64\n",
              "MARRIAGE                        int64\n",
              "AGE                             int64\n",
              "PAY_0                           int64\n",
              "PAY_2                           int64\n",
              "PAY_3                           int64\n",
              "PAY_4                           int64\n",
              "PAY_5                           int64\n",
              "PAY_6                           int64\n",
              "BILL_AMT1                     float64\n",
              "BILL_AMT2                     float64\n",
              "BILL_AMT3                     float64\n",
              "BILL_AMT4                     float64\n",
              "BILL_AMT5                     float64\n",
              "BILL_AMT6                     float64\n",
              "PAY_AMT1                      float64\n",
              "PAY_AMT2                      float64\n",
              "PAY_AMT3                      float64\n",
              "PAY_AMT4                      float64\n",
              "PAY_AMT5                      float64\n",
              "PAY_AMT6                      float64\n",
              "default.payment.next.month      int64\n",
              "dtype: object"
            ]
          },
          "metadata": {
            "tags": []
          },
          "execution_count": 5
        }
      ]
    },
    {
      "cell_type": "code",
      "metadata": {
        "id": "76PPKPHOzpjK",
        "outputId": "0dc68f52-bd51-44d2-d6ba-cdec240286d6",
        "colab": {
          "base_uri": "https://localhost:8080/",
          "height": 35
        }
      },
      "source": [
        "# Check missing values: no as can be also seen with data.info()\n",
        "data.isnull().values.any()"
      ],
      "execution_count": 6,
      "outputs": [
        {
          "output_type": "execute_result",
          "data": {
            "text/plain": [
              "False"
            ]
          },
          "metadata": {
            "tags": []
          },
          "execution_count": 6
        }
      ]
    },
    {
      "cell_type": "code",
      "metadata": {
        "id": "br3RuO_7XtTu",
        "outputId": "1ec424e6-2b16-41b8-e12a-1a0628102682",
        "colab": {
          "base_uri": "https://localhost:8080/",
          "height": 307
        }
      },
      "source": [
        "# Summary Statistics\n",
        "data.describe()"
      ],
      "execution_count": 7,
      "outputs": [
        {
          "output_type": "execute_result",
          "data": {
            "text/html": [
              "<div>\n",
              "<style scoped>\n",
              "    .dataframe tbody tr th:only-of-type {\n",
              "        vertical-align: middle;\n",
              "    }\n",
              "\n",
              "    .dataframe tbody tr th {\n",
              "        vertical-align: top;\n",
              "    }\n",
              "\n",
              "    .dataframe thead th {\n",
              "        text-align: right;\n",
              "    }\n",
              "</style>\n",
              "<table border=\"1\" class=\"dataframe\">\n",
              "  <thead>\n",
              "    <tr style=\"text-align: right;\">\n",
              "      <th></th>\n",
              "      <th>ID</th>\n",
              "      <th>LIMIT_BAL</th>\n",
              "      <th>SEX</th>\n",
              "      <th>EDUCATION</th>\n",
              "      <th>MARRIAGE</th>\n",
              "      <th>AGE</th>\n",
              "      <th>PAY_0</th>\n",
              "      <th>PAY_2</th>\n",
              "      <th>PAY_3</th>\n",
              "      <th>PAY_4</th>\n",
              "      <th>PAY_5</th>\n",
              "      <th>PAY_6</th>\n",
              "      <th>BILL_AMT1</th>\n",
              "      <th>BILL_AMT2</th>\n",
              "      <th>BILL_AMT3</th>\n",
              "      <th>BILL_AMT4</th>\n",
              "      <th>BILL_AMT5</th>\n",
              "      <th>BILL_AMT6</th>\n",
              "      <th>PAY_AMT1</th>\n",
              "      <th>PAY_AMT2</th>\n",
              "      <th>PAY_AMT3</th>\n",
              "      <th>PAY_AMT4</th>\n",
              "      <th>PAY_AMT5</th>\n",
              "      <th>PAY_AMT6</th>\n",
              "      <th>default.payment.next.month</th>\n",
              "    </tr>\n",
              "  </thead>\n",
              "  <tbody>\n",
              "    <tr>\n",
              "      <th>count</th>\n",
              "      <td>30000.00</td>\n",
              "      <td>30000.00</td>\n",
              "      <td>30000.00</td>\n",
              "      <td>30000.00</td>\n",
              "      <td>30000.00</td>\n",
              "      <td>30000.00</td>\n",
              "      <td>30000.00</td>\n",
              "      <td>30000.00</td>\n",
              "      <td>30000.00</td>\n",
              "      <td>30000.00</td>\n",
              "      <td>30000.00</td>\n",
              "      <td>30000.00</td>\n",
              "      <td>30000.00</td>\n",
              "      <td>30000.00</td>\n",
              "      <td>3.00e+04</td>\n",
              "      <td>30000.00</td>\n",
              "      <td>30000.00</td>\n",
              "      <td>30000.00</td>\n",
              "      <td>30000.00</td>\n",
              "      <td>3.00e+04</td>\n",
              "      <td>30000.00</td>\n",
              "      <td>30000.00</td>\n",
              "      <td>30000.00</td>\n",
              "      <td>30000.00</td>\n",
              "      <td>30000.00</td>\n",
              "    </tr>\n",
              "    <tr>\n",
              "      <th>mean</th>\n",
              "      <td>15000.50</td>\n",
              "      <td>167484.32</td>\n",
              "      <td>1.60</td>\n",
              "      <td>1.85</td>\n",
              "      <td>1.55</td>\n",
              "      <td>35.49</td>\n",
              "      <td>-0.02</td>\n",
              "      <td>-0.13</td>\n",
              "      <td>-0.17</td>\n",
              "      <td>-0.22</td>\n",
              "      <td>-0.27</td>\n",
              "      <td>-0.29</td>\n",
              "      <td>51223.33</td>\n",
              "      <td>49179.08</td>\n",
              "      <td>4.70e+04</td>\n",
              "      <td>43262.95</td>\n",
              "      <td>40311.40</td>\n",
              "      <td>38871.76</td>\n",
              "      <td>5663.58</td>\n",
              "      <td>5.92e+03</td>\n",
              "      <td>5225.68</td>\n",
              "      <td>4826.08</td>\n",
              "      <td>4799.39</td>\n",
              "      <td>5215.50</td>\n",
              "      <td>0.22</td>\n",
              "    </tr>\n",
              "    <tr>\n",
              "      <th>std</th>\n",
              "      <td>8660.40</td>\n",
              "      <td>129747.66</td>\n",
              "      <td>0.49</td>\n",
              "      <td>0.79</td>\n",
              "      <td>0.52</td>\n",
              "      <td>9.22</td>\n",
              "      <td>1.12</td>\n",
              "      <td>1.20</td>\n",
              "      <td>1.20</td>\n",
              "      <td>1.17</td>\n",
              "      <td>1.13</td>\n",
              "      <td>1.15</td>\n",
              "      <td>73635.86</td>\n",
              "      <td>71173.77</td>\n",
              "      <td>6.93e+04</td>\n",
              "      <td>64332.86</td>\n",
              "      <td>60797.16</td>\n",
              "      <td>59554.11</td>\n",
              "      <td>16563.28</td>\n",
              "      <td>2.30e+04</td>\n",
              "      <td>17606.96</td>\n",
              "      <td>15666.16</td>\n",
              "      <td>15278.31</td>\n",
              "      <td>17777.47</td>\n",
              "      <td>0.42</td>\n",
              "    </tr>\n",
              "    <tr>\n",
              "      <th>min</th>\n",
              "      <td>1.00</td>\n",
              "      <td>10000.00</td>\n",
              "      <td>1.00</td>\n",
              "      <td>0.00</td>\n",
              "      <td>0.00</td>\n",
              "      <td>21.00</td>\n",
              "      <td>-2.00</td>\n",
              "      <td>-2.00</td>\n",
              "      <td>-2.00</td>\n",
              "      <td>-2.00</td>\n",
              "      <td>-2.00</td>\n",
              "      <td>-2.00</td>\n",
              "      <td>-165580.00</td>\n",
              "      <td>-69777.00</td>\n",
              "      <td>-1.57e+05</td>\n",
              "      <td>-170000.00</td>\n",
              "      <td>-81334.00</td>\n",
              "      <td>-339603.00</td>\n",
              "      <td>0.00</td>\n",
              "      <td>0.00e+00</td>\n",
              "      <td>0.00</td>\n",
              "      <td>0.00</td>\n",
              "      <td>0.00</td>\n",
              "      <td>0.00</td>\n",
              "      <td>0.00</td>\n",
              "    </tr>\n",
              "    <tr>\n",
              "      <th>25%</th>\n",
              "      <td>7500.75</td>\n",
              "      <td>50000.00</td>\n",
              "      <td>1.00</td>\n",
              "      <td>1.00</td>\n",
              "      <td>1.00</td>\n",
              "      <td>28.00</td>\n",
              "      <td>-1.00</td>\n",
              "      <td>-1.00</td>\n",
              "      <td>-1.00</td>\n",
              "      <td>-1.00</td>\n",
              "      <td>-1.00</td>\n",
              "      <td>-1.00</td>\n",
              "      <td>3558.75</td>\n",
              "      <td>2984.75</td>\n",
              "      <td>2.67e+03</td>\n",
              "      <td>2326.75</td>\n",
              "      <td>1763.00</td>\n",
              "      <td>1256.00</td>\n",
              "      <td>1000.00</td>\n",
              "      <td>8.33e+02</td>\n",
              "      <td>390.00</td>\n",
              "      <td>296.00</td>\n",
              "      <td>252.50</td>\n",
              "      <td>117.75</td>\n",
              "      <td>0.00</td>\n",
              "    </tr>\n",
              "    <tr>\n",
              "      <th>50%</th>\n",
              "      <td>15000.50</td>\n",
              "      <td>140000.00</td>\n",
              "      <td>2.00</td>\n",
              "      <td>2.00</td>\n",
              "      <td>2.00</td>\n",
              "      <td>34.00</td>\n",
              "      <td>0.00</td>\n",
              "      <td>0.00</td>\n",
              "      <td>0.00</td>\n",
              "      <td>0.00</td>\n",
              "      <td>0.00</td>\n",
              "      <td>0.00</td>\n",
              "      <td>22381.50</td>\n",
              "      <td>21200.00</td>\n",
              "      <td>2.01e+04</td>\n",
              "      <td>19052.00</td>\n",
              "      <td>18104.50</td>\n",
              "      <td>17071.00</td>\n",
              "      <td>2100.00</td>\n",
              "      <td>2.01e+03</td>\n",
              "      <td>1800.00</td>\n",
              "      <td>1500.00</td>\n",
              "      <td>1500.00</td>\n",
              "      <td>1500.00</td>\n",
              "      <td>0.00</td>\n",
              "    </tr>\n",
              "    <tr>\n",
              "      <th>75%</th>\n",
              "      <td>22500.25</td>\n",
              "      <td>240000.00</td>\n",
              "      <td>2.00</td>\n",
              "      <td>2.00</td>\n",
              "      <td>2.00</td>\n",
              "      <td>41.00</td>\n",
              "      <td>0.00</td>\n",
              "      <td>0.00</td>\n",
              "      <td>0.00</td>\n",
              "      <td>0.00</td>\n",
              "      <td>0.00</td>\n",
              "      <td>0.00</td>\n",
              "      <td>67091.00</td>\n",
              "      <td>64006.25</td>\n",
              "      <td>6.02e+04</td>\n",
              "      <td>54506.00</td>\n",
              "      <td>50190.50</td>\n",
              "      <td>49198.25</td>\n",
              "      <td>5006.00</td>\n",
              "      <td>5.00e+03</td>\n",
              "      <td>4505.00</td>\n",
              "      <td>4013.25</td>\n",
              "      <td>4031.50</td>\n",
              "      <td>4000.00</td>\n",
              "      <td>0.00</td>\n",
              "    </tr>\n",
              "    <tr>\n",
              "      <th>max</th>\n",
              "      <td>30000.00</td>\n",
              "      <td>1000000.00</td>\n",
              "      <td>2.00</td>\n",
              "      <td>6.00</td>\n",
              "      <td>3.00</td>\n",
              "      <td>79.00</td>\n",
              "      <td>8.00</td>\n",
              "      <td>8.00</td>\n",
              "      <td>8.00</td>\n",
              "      <td>8.00</td>\n",
              "      <td>8.00</td>\n",
              "      <td>8.00</td>\n",
              "      <td>964511.00</td>\n",
              "      <td>983931.00</td>\n",
              "      <td>1.66e+06</td>\n",
              "      <td>891586.00</td>\n",
              "      <td>927171.00</td>\n",
              "      <td>961664.00</td>\n",
              "      <td>873552.00</td>\n",
              "      <td>1.68e+06</td>\n",
              "      <td>896040.00</td>\n",
              "      <td>621000.00</td>\n",
              "      <td>426529.00</td>\n",
              "      <td>528666.00</td>\n",
              "      <td>1.00</td>\n",
              "    </tr>\n",
              "  </tbody>\n",
              "</table>\n",
              "</div>"
            ],
            "text/plain": [
              "             ID   LIMIT_BAL  ...   PAY_AMT6  default.payment.next.month\n",
              "count  30000.00    30000.00  ...   30000.00                    30000.00\n",
              "mean   15000.50   167484.32  ...    5215.50                        0.22\n",
              "std     8660.40   129747.66  ...   17777.47                        0.42\n",
              "min        1.00    10000.00  ...       0.00                        0.00\n",
              "25%     7500.75    50000.00  ...     117.75                        0.00\n",
              "50%    15000.50   140000.00  ...    1500.00                        0.00\n",
              "75%    22500.25   240000.00  ...    4000.00                        0.00\n",
              "max    30000.00  1000000.00  ...  528666.00                        1.00\n",
              "\n",
              "[8 rows x 25 columns]"
            ]
          },
          "metadata": {
            "tags": []
          },
          "execution_count": 7
        }
      ]
    },
    {
      "cell_type": "code",
      "metadata": {
        "id": "7-YxsZlYFXwE"
      },
      "source": [
        "# rename variable 'PAY_0' to 'PAY_1' \n",
        "data.rename(columns={\"PAY_0\": \"PAY_1\"}, inplace=True)\n",
        "# rename target variable: 'default.payment.next.month' to 'Default'\n",
        "data.rename(columns={\"default.payment.next.month\": \"Default\"}, inplace=True)\n",
        "# drop first attribute \"ID\"\n",
        "data.drop('ID', axis = 1, inplace =True)\n",
        "# Class label to category\n",
        "data[\"Default\"] = data[\"Default\"].astype('category')"
      ],
      "execution_count": 8,
      "outputs": []
    },
    {
      "cell_type": "code",
      "metadata": {
        "id": "hCkD_8s6zpjT",
        "outputId": "46420456-2caf-4043-a076-1c908725ad42",
        "colab": {
          "base_uri": "https://localhost:8080/",
          "height": 108
        }
      },
      "source": [
        "data['MARRIAGE'].value_counts()"
      ],
      "execution_count": 9,
      "outputs": [
        {
          "output_type": "execute_result",
          "data": {
            "text/plain": [
              "2    15964\n",
              "1    13659\n",
              "3      323\n",
              "0       54\n",
              "Name: MARRIAGE, dtype: int64"
            ]
          },
          "metadata": {
            "tags": []
          },
          "execution_count": 9
        }
      ]
    },
    {
      "cell_type": "code",
      "metadata": {
        "id": "TilhkI5czpjZ",
        "outputId": "c4f54fa2-f131-437e-8bc5-44821d868a36",
        "colab": {
          "base_uri": "https://localhost:8080/",
          "height": 162
        }
      },
      "source": [
        "data['EDUCATION'].value_counts()"
      ],
      "execution_count": 10,
      "outputs": [
        {
          "output_type": "execute_result",
          "data": {
            "text/plain": [
              "2    14030\n",
              "1    10585\n",
              "3     4917\n",
              "5      280\n",
              "4      123\n",
              "6       51\n",
              "0       14\n",
              "Name: EDUCATION, dtype: int64"
            ]
          },
          "metadata": {
            "tags": []
          },
          "execution_count": 10
        }
      ]
    },
    {
      "cell_type": "code",
      "metadata": {
        "id": "zMal2aDOzpje"
      },
      "source": [
        "# category '0' undocumented is deleted\n",
        "data = data.drop(data[data['MARRIAGE']==0].index)\n",
        "# we could also group the 0 category with 3:others\n",
        "# data['MARRIAGE']=np.where(data['MARRIAGE'] == 0, 3, data['MARRIAGE'])\n",
        "\n",
        "# categories 0, 5 and 6 are unknown and are deleted\n",
        "data = data.drop(data[data['EDUCATION']==0].index)\n",
        "data = data.drop(data[data['EDUCATION']==5].index)\n",
        "data = data.drop(data[data['EDUCATION']==6].index)\n",
        "# we could also group the categories together\n",
        "# data['EDUCATION']=np.where(data['EDUCATION'] == 5, 4, data['EDUCATION'])\n",
        "# data['EDUCATION']=np.where(data['EDUCATION'] == 6, 4, data['EDUCATION'])\n",
        "# data['EDUCATION']=np.where(data['EDUCATION'] == 0, 4, data['EDUCATION'])"
      ],
      "execution_count": 11,
      "outputs": []
    },
    {
      "cell_type": "code",
      "metadata": {
        "id": "pjDVytB_zpjl"
      },
      "source": [
        "if SHOW_FIGURE :\n",
        "    # 1=graduate school, 2=university, 3=high school 4=others\n",
        "    data['EDUCATION'].value_counts().plot(kind='bar', figsize=(10,6))\n",
        "    # plt.title(\"Number of cars by make\")\n",
        "    plt.xticks([0,1,2,3],['University','Graduate\\nSchool', 'High\\nSchool', 'Others'],fontproperties=font,rotation=0)\n",
        "    # plt.xlabel('Education level', fontproperties=font)\n",
        "    plt.ylabel('# of clients', fontproperties=font)\n",
        "    # plt.show()\n",
        "    plt.savefig('Fig - Education Level barplot.png')"
      ],
      "execution_count": 12,
      "outputs": []
    },
    {
      "cell_type": "code",
      "metadata": {
        "id": "UCbizDuhzpjr"
      },
      "source": [
        "if SHOW_FIGURE :\n",
        "    # 1=married, 2=single, 3=others\n",
        "    data['MARRIAGE'].value_counts().plot(kind='bar', figsize=(10,6))\n",
        "    # plt.title(\"Number of cars by make\")\n",
        "    plt.xticks([0,1,2],['Single','Married', 'Others'],fontproperties=font,rotation=0)\n",
        "    # plt.xlabel('Marital Status', fontproperties=font)\n",
        "    plt.ylabel('# of clients', fontproperties=font)\n",
        "    # plt.show()\n",
        "    plt.savefig('Fig - Marital Status.png')"
      ],
      "execution_count": 13,
      "outputs": []
    },
    {
      "cell_type": "code",
      "metadata": {
        "id": "6psCg6Y2zpkS",
        "outputId": "c6288722-d26b-4982-fb5c-b4af61584a2b",
        "colab": {
          "base_uri": "https://localhost:8080/",
          "height": 287
        }
      },
      "source": [
        "# Payment delay description\n",
        "data[['PAY_1', 'PAY_2', 'PAY_3', 'PAY_4', 'PAY_5', 'PAY_6']].describe()"
      ],
      "execution_count": 14,
      "outputs": [
        {
          "output_type": "execute_result",
          "data": {
            "text/html": [
              "<div>\n",
              "<style scoped>\n",
              "    .dataframe tbody tr th:only-of-type {\n",
              "        vertical-align: middle;\n",
              "    }\n",
              "\n",
              "    .dataframe tbody tr th {\n",
              "        vertical-align: top;\n",
              "    }\n",
              "\n",
              "    .dataframe thead th {\n",
              "        text-align: right;\n",
              "    }\n",
              "</style>\n",
              "<table border=\"1\" class=\"dataframe\">\n",
              "  <thead>\n",
              "    <tr style=\"text-align: right;\">\n",
              "      <th></th>\n",
              "      <th>PAY_1</th>\n",
              "      <th>PAY_2</th>\n",
              "      <th>PAY_3</th>\n",
              "      <th>PAY_4</th>\n",
              "      <th>PAY_5</th>\n",
              "      <th>PAY_6</th>\n",
              "    </tr>\n",
              "  </thead>\n",
              "  <tbody>\n",
              "    <tr>\n",
              "      <th>count</th>\n",
              "      <td>29601.00</td>\n",
              "      <td>29601.00</td>\n",
              "      <td>29601.00</td>\n",
              "      <td>29601.00</td>\n",
              "      <td>29601.00</td>\n",
              "      <td>29601.00</td>\n",
              "    </tr>\n",
              "    <tr>\n",
              "      <th>mean</th>\n",
              "      <td>-0.01</td>\n",
              "      <td>-0.13</td>\n",
              "      <td>-0.16</td>\n",
              "      <td>-0.22</td>\n",
              "      <td>-0.26</td>\n",
              "      <td>-0.29</td>\n",
              "    </tr>\n",
              "    <tr>\n",
              "      <th>std</th>\n",
              "      <td>1.12</td>\n",
              "      <td>1.20</td>\n",
              "      <td>1.20</td>\n",
              "      <td>1.17</td>\n",
              "      <td>1.14</td>\n",
              "      <td>1.15</td>\n",
              "    </tr>\n",
              "    <tr>\n",
              "      <th>min</th>\n",
              "      <td>-2.00</td>\n",
              "      <td>-2.00</td>\n",
              "      <td>-2.00</td>\n",
              "      <td>-2.00</td>\n",
              "      <td>-2.00</td>\n",
              "      <td>-2.00</td>\n",
              "    </tr>\n",
              "    <tr>\n",
              "      <th>25%</th>\n",
              "      <td>-1.00</td>\n",
              "      <td>-1.00</td>\n",
              "      <td>-1.00</td>\n",
              "      <td>-1.00</td>\n",
              "      <td>-1.00</td>\n",
              "      <td>-1.00</td>\n",
              "    </tr>\n",
              "    <tr>\n",
              "      <th>50%</th>\n",
              "      <td>0.00</td>\n",
              "      <td>0.00</td>\n",
              "      <td>0.00</td>\n",
              "      <td>0.00</td>\n",
              "      <td>0.00</td>\n",
              "      <td>0.00</td>\n",
              "    </tr>\n",
              "    <tr>\n",
              "      <th>75%</th>\n",
              "      <td>0.00</td>\n",
              "      <td>0.00</td>\n",
              "      <td>0.00</td>\n",
              "      <td>0.00</td>\n",
              "      <td>0.00</td>\n",
              "      <td>0.00</td>\n",
              "    </tr>\n",
              "    <tr>\n",
              "      <th>max</th>\n",
              "      <td>8.00</td>\n",
              "      <td>8.00</td>\n",
              "      <td>8.00</td>\n",
              "      <td>8.00</td>\n",
              "      <td>8.00</td>\n",
              "      <td>8.00</td>\n",
              "    </tr>\n",
              "  </tbody>\n",
              "</table>\n",
              "</div>"
            ],
            "text/plain": [
              "          PAY_1     PAY_2     PAY_3     PAY_4     PAY_5     PAY_6\n",
              "count  29601.00  29601.00  29601.00  29601.00  29601.00  29601.00\n",
              "mean      -0.01     -0.13     -0.16     -0.22     -0.26     -0.29\n",
              "std        1.12      1.20      1.20      1.17      1.14      1.15\n",
              "min       -2.00     -2.00     -2.00     -2.00     -2.00     -2.00\n",
              "25%       -1.00     -1.00     -1.00     -1.00     -1.00     -1.00\n",
              "50%        0.00      0.00      0.00      0.00      0.00      0.00\n",
              "75%        0.00      0.00      0.00      0.00      0.00      0.00\n",
              "max        8.00      8.00      8.00      8.00      8.00      8.00"
            ]
          },
          "metadata": {
            "tags": []
          },
          "execution_count": 14
        }
      ]
    },
    {
      "cell_type": "code",
      "metadata": {
        "id": "bXiM4RtkS1FP"
      },
      "source": [
        "# REPAYMENT STATUS = -1=pay duly, 1=payment delay for one month, 2=payment delay for two months, ... 8=payment delay for eight months, 9=payment delay for nine months and above\n",
        "# for att in ['PAY_1', 'PAY_2', 'PAY_3', 'PAY_4', 'PAY_5', 'PAY_6']: \n",
        "#   print(f\"# {att} -------\")\n",
        "#   print(data[att].value_counts())"
      ],
      "execution_count": 15,
      "outputs": []
    },
    {
      "cell_type": "code",
      "metadata": {
        "id": "JfjguM7bhC6C"
      },
      "source": [
        "# since PAY_n can take as values only -1,1,2,3,4,5,6,7,8,9\n",
        "for att in ['PAY_1', 'PAY_2', 'PAY_3', 'PAY_4', 'PAY_5', 'PAY_6']:\n",
        "  # categories -2,-1 are grouped into a single class -1: pay duty   \n",
        "  filter = (data[att] == -2) | (data[att] == -1) \n",
        "  data.loc[filter, att] = -1\n",
        "  # print(data[att].unique())\n",
        "  # moreover the category 0 is undocumented\n",
        "  # so each category >= 0 has been updated by adding 1\n",
        "  data[att] = data[att].astype('int64')\n",
        "  filter = (data[att] >= 0)\n",
        "  data.loc[filter, att] = data.loc[filter, att] + 1\n",
        "  # print(data[att].unique())\n",
        "  # print(\"##############################################\")"
      ],
      "execution_count": 16,
      "outputs": []
    },
    {
      "cell_type": "code",
      "metadata": {
        "id": "bvyrQ1-tUEtm",
        "outputId": "b706ab7c-943d-4929-af9b-122de8ccc5f2",
        "colab": {
          "base_uri": "https://localhost:8080/",
          "height": 287
        }
      },
      "source": [
        "# Payment delay description\n",
        "data[['PAY_1', 'PAY_2', 'PAY_3', 'PAY_4', 'PAY_5', 'PAY_6']].describe()"
      ],
      "execution_count": 17,
      "outputs": [
        {
          "output_type": "execute_result",
          "data": {
            "text/html": [
              "<div>\n",
              "<style scoped>\n",
              "    .dataframe tbody tr th:only-of-type {\n",
              "        vertical-align: middle;\n",
              "    }\n",
              "\n",
              "    .dataframe tbody tr th {\n",
              "        vertical-align: top;\n",
              "    }\n",
              "\n",
              "    .dataframe thead th {\n",
              "        text-align: right;\n",
              "    }\n",
              "</style>\n",
              "<table border=\"1\" class=\"dataframe\">\n",
              "  <thead>\n",
              "    <tr style=\"text-align: right;\">\n",
              "      <th></th>\n",
              "      <th>PAY_1</th>\n",
              "      <th>PAY_2</th>\n",
              "      <th>PAY_3</th>\n",
              "      <th>PAY_4</th>\n",
              "      <th>PAY_5</th>\n",
              "      <th>PAY_6</th>\n",
              "    </tr>\n",
              "  </thead>\n",
              "  <tbody>\n",
              "    <tr>\n",
              "      <th>count</th>\n",
              "      <td>29601.00</td>\n",
              "      <td>29601.00</td>\n",
              "      <td>29601.00</td>\n",
              "      <td>29601.00</td>\n",
              "      <td>29601.00</td>\n",
              "      <td>29601.00</td>\n",
              "    </tr>\n",
              "    <tr>\n",
              "      <th>mean</th>\n",
              "      <td>0.79</td>\n",
              "      <td>0.67</td>\n",
              "      <td>0.64</td>\n",
              "      <td>0.59</td>\n",
              "      <td>0.55</td>\n",
              "      <td>0.52</td>\n",
              "    </tr>\n",
              "    <tr>\n",
              "      <th>std</th>\n",
              "      <td>1.34</td>\n",
              "      <td>1.40</td>\n",
              "      <td>1.39</td>\n",
              "      <td>1.35</td>\n",
              "      <td>1.31</td>\n",
              "      <td>1.33</td>\n",
              "    </tr>\n",
              "    <tr>\n",
              "      <th>min</th>\n",
              "      <td>-1.00</td>\n",
              "      <td>-1.00</td>\n",
              "      <td>-1.00</td>\n",
              "      <td>-1.00</td>\n",
              "      <td>-1.00</td>\n",
              "      <td>-1.00</td>\n",
              "    </tr>\n",
              "    <tr>\n",
              "      <th>25%</th>\n",
              "      <td>-1.00</td>\n",
              "      <td>-1.00</td>\n",
              "      <td>-1.00</td>\n",
              "      <td>-1.00</td>\n",
              "      <td>-1.00</td>\n",
              "      <td>-1.00</td>\n",
              "    </tr>\n",
              "    <tr>\n",
              "      <th>50%</th>\n",
              "      <td>1.00</td>\n",
              "      <td>1.00</td>\n",
              "      <td>1.00</td>\n",
              "      <td>1.00</td>\n",
              "      <td>1.00</td>\n",
              "      <td>1.00</td>\n",
              "    </tr>\n",
              "    <tr>\n",
              "      <th>75%</th>\n",
              "      <td>1.00</td>\n",
              "      <td>1.00</td>\n",
              "      <td>1.00</td>\n",
              "      <td>1.00</td>\n",
              "      <td>1.00</td>\n",
              "      <td>1.00</td>\n",
              "    </tr>\n",
              "    <tr>\n",
              "      <th>max</th>\n",
              "      <td>9.00</td>\n",
              "      <td>9.00</td>\n",
              "      <td>9.00</td>\n",
              "      <td>9.00</td>\n",
              "      <td>9.00</td>\n",
              "      <td>9.00</td>\n",
              "    </tr>\n",
              "  </tbody>\n",
              "</table>\n",
              "</div>"
            ],
            "text/plain": [
              "          PAY_1     PAY_2     PAY_3     PAY_4     PAY_5     PAY_6\n",
              "count  29601.00  29601.00  29601.00  29601.00  29601.00  29601.00\n",
              "mean       0.79      0.67      0.64      0.59      0.55      0.52\n",
              "std        1.34      1.40      1.39      1.35      1.31      1.33\n",
              "min       -1.00     -1.00     -1.00     -1.00     -1.00     -1.00\n",
              "25%       -1.00     -1.00     -1.00     -1.00     -1.00     -1.00\n",
              "50%        1.00      1.00      1.00      1.00      1.00      1.00\n",
              "75%        1.00      1.00      1.00      1.00      1.00      1.00\n",
              "max        9.00      9.00      9.00      9.00      9.00      9.00"
            ]
          },
          "metadata": {
            "tags": []
          },
          "execution_count": 17
        }
      ]
    },
    {
      "cell_type": "code",
      "metadata": {
        "id": "lkazd9Z_UEts"
      },
      "source": [
        "# # REPAYMENT STATUS = -1=pay duly, 1=payment delay for one month, 2=payment delay for two months, ... 8=payment delay for eight months, 9=payment delay for nine months and above\n",
        "# for att in ['PAY_1', 'PAY_2', 'PAY_3', 'PAY_4', 'PAY_5', 'PAY_6']: \n",
        "#   print(f\"# {att} -------\")\n",
        "#   print(data[att].value_counts())"
      ],
      "execution_count": 18,
      "outputs": []
    },
    {
      "cell_type": "code",
      "metadata": {
        "id": "EeGQR6ZoYhvT"
      },
      "source": [
        "if SHOW_FIGURE :\n",
        "    # Creating a new dataframe with categorical variables\n",
        "    subset = data[['SEX', 'EDUCATION', 'MARRIAGE', 'PAY_1', 'PAY_2', 'PAY_3', 'PAY_4', 'PAY_5', 'PAY_6', 'Default']]\n",
        "\n",
        "    f, axes = plt.subplots(3, 3, figsize=(20, 15), facecolor='white')\n",
        "    f.suptitle('FREQUENCY OF CATEGORICAL VARIABLES (BY TARGET)')\n",
        "    ax1 = sns.countplot(x=\"SEX\", hue=\"Default\", data=subset, palette=\"Blues\", ax=axes[0,0])\n",
        "    ax2 = sns.countplot(x=\"EDUCATION\", hue=\"Default\", data=subset, palette=\"Blues\",ax=axes[0,1])\n",
        "    ax3 = sns.countplot(x=\"MARRIAGE\", hue=\"Default\", data=subset, palette=\"Blues\",ax=axes[0,2])\n",
        "    ax4 = sns.countplot(x=\"PAY_1\", hue=\"Default\", data=subset, palette=\"Blues\", ax=axes[1,0])\n",
        "    ax5 = sns.countplot(x=\"PAY_2\", hue=\"Default\", data=subset, palette=\"Blues\", ax=axes[1,1])\n",
        "    ax6 = sns.countplot(x=\"PAY_3\", hue=\"Default\", data=subset, palette=\"Blues\", ax=axes[1,2])\n",
        "    ax7 = sns.countplot(x=\"PAY_4\", hue=\"Default\", data=subset, palette=\"Blues\", ax=axes[2,0])\n",
        "    ax8 = sns.countplot(x=\"PAY_5\", hue=\"Default\", data=subset, palette=\"Blues\", ax=axes[2,1])\n",
        "    ax9 = sns.countplot(x=\"PAY_6\", hue=\"Default\", data=subset, palette=\"Blues\", ax=axes[2,2]);"
      ],
      "execution_count": 19,
      "outputs": []
    },
    {
      "cell_type": "code",
      "metadata": {
        "id": "pqulwUJ2zpkc",
        "outputId": "5fa86a9f-aada-4d8f-8e49-38978645183c",
        "colab": {
          "base_uri": "https://localhost:8080/",
          "height": 287
        }
      },
      "source": [
        "# Bill Statement description\n",
        "data[['BILL_AMT1', 'BILL_AMT2', 'BILL_AMT3', 'BILL_AMT4', 'BILL_AMT5', 'BILL_AMT6']].describe()"
      ],
      "execution_count": 20,
      "outputs": [
        {
          "output_type": "execute_result",
          "data": {
            "text/html": [
              "<div>\n",
              "<style scoped>\n",
              "    .dataframe tbody tr th:only-of-type {\n",
              "        vertical-align: middle;\n",
              "    }\n",
              "\n",
              "    .dataframe tbody tr th {\n",
              "        vertical-align: top;\n",
              "    }\n",
              "\n",
              "    .dataframe thead th {\n",
              "        text-align: right;\n",
              "    }\n",
              "</style>\n",
              "<table border=\"1\" class=\"dataframe\">\n",
              "  <thead>\n",
              "    <tr style=\"text-align: right;\">\n",
              "      <th></th>\n",
              "      <th>BILL_AMT1</th>\n",
              "      <th>BILL_AMT2</th>\n",
              "      <th>BILL_AMT3</th>\n",
              "      <th>BILL_AMT4</th>\n",
              "      <th>BILL_AMT5</th>\n",
              "      <th>BILL_AMT6</th>\n",
              "    </tr>\n",
              "  </thead>\n",
              "  <tbody>\n",
              "    <tr>\n",
              "      <th>count</th>\n",
              "      <td>29601.00</td>\n",
              "      <td>29601.00</td>\n",
              "      <td>2.96e+04</td>\n",
              "      <td>29601.00</td>\n",
              "      <td>29601.00</td>\n",
              "      <td>29601.00</td>\n",
              "    </tr>\n",
              "    <tr>\n",
              "      <th>mean</th>\n",
              "      <td>50957.43</td>\n",
              "      <td>48942.19</td>\n",
              "      <td>4.68e+04</td>\n",
              "      <td>43122.55</td>\n",
              "      <td>40235.55</td>\n",
              "      <td>38858.45</td>\n",
              "    </tr>\n",
              "    <tr>\n",
              "      <th>std</th>\n",
              "      <td>73370.24</td>\n",
              "      <td>70923.99</td>\n",
              "      <td>6.91e+04</td>\n",
              "      <td>64196.38</td>\n",
              "      <td>60699.34</td>\n",
              "      <td>59519.89</td>\n",
              "    </tr>\n",
              "    <tr>\n",
              "      <th>min</th>\n",
              "      <td>-165580.00</td>\n",
              "      <td>-69777.00</td>\n",
              "      <td>-1.57e+05</td>\n",
              "      <td>-170000.00</td>\n",
              "      <td>-81334.00</td>\n",
              "      <td>-339603.00</td>\n",
              "    </tr>\n",
              "    <tr>\n",
              "      <th>25%</th>\n",
              "      <td>3528.00</td>\n",
              "      <td>2970.00</td>\n",
              "      <td>2.65e+03</td>\n",
              "      <td>2329.00</td>\n",
              "      <td>1780.00</td>\n",
              "      <td>1278.00</td>\n",
              "    </tr>\n",
              "    <tr>\n",
              "      <th>50%</th>\n",
              "      <td>22259.00</td>\n",
              "      <td>21050.00</td>\n",
              "      <td>2.00e+04</td>\n",
              "      <td>19005.00</td>\n",
              "      <td>18091.00</td>\n",
              "      <td>17118.00</td>\n",
              "    </tr>\n",
              "    <tr>\n",
              "      <th>75%</th>\n",
              "      <td>66623.00</td>\n",
              "      <td>63497.00</td>\n",
              "      <td>5.98e+04</td>\n",
              "      <td>54271.00</td>\n",
              "      <td>50072.00</td>\n",
              "      <td>49121.00</td>\n",
              "    </tr>\n",
              "    <tr>\n",
              "      <th>max</th>\n",
              "      <td>964511.00</td>\n",
              "      <td>983931.00</td>\n",
              "      <td>1.66e+06</td>\n",
              "      <td>891586.00</td>\n",
              "      <td>927171.00</td>\n",
              "      <td>961664.00</td>\n",
              "    </tr>\n",
              "  </tbody>\n",
              "</table>\n",
              "</div>"
            ],
            "text/plain": [
              "       BILL_AMT1  BILL_AMT2  BILL_AMT3  BILL_AMT4  BILL_AMT5  BILL_AMT6\n",
              "count   29601.00   29601.00   2.96e+04   29601.00   29601.00   29601.00\n",
              "mean    50957.43   48942.19   4.68e+04   43122.55   40235.55   38858.45\n",
              "std     73370.24   70923.99   6.91e+04   64196.38   60699.34   59519.89\n",
              "min   -165580.00  -69777.00  -1.57e+05 -170000.00  -81334.00 -339603.00\n",
              "25%      3528.00    2970.00   2.65e+03    2329.00    1780.00    1278.00\n",
              "50%     22259.00   21050.00   2.00e+04   19005.00   18091.00   17118.00\n",
              "75%     66623.00   63497.00   5.98e+04   54271.00   50072.00   49121.00\n",
              "max    964511.00  983931.00   1.66e+06  891586.00  927171.00  961664.00"
            ]
          },
          "metadata": {
            "tags": []
          },
          "execution_count": 20
        }
      ]
    },
    {
      "cell_type": "code",
      "metadata": {
        "id": "cdUD5NUszpki",
        "outputId": "34244e81-bab5-47bf-8a5e-12bcad4e0f93",
        "colab": {
          "base_uri": "https://localhost:8080/",
          "height": 287
        }
      },
      "source": [
        "# Previous Payment Description\n",
        "data[['PAY_AMT1', 'PAY_AMT2', 'PAY_AMT3', 'PAY_AMT4', 'PAY_AMT5', 'PAY_AMT6']].describe()"
      ],
      "execution_count": 21,
      "outputs": [
        {
          "output_type": "execute_result",
          "data": {
            "text/html": [
              "<div>\n",
              "<style scoped>\n",
              "    .dataframe tbody tr th:only-of-type {\n",
              "        vertical-align: middle;\n",
              "    }\n",
              "\n",
              "    .dataframe tbody tr th {\n",
              "        vertical-align: top;\n",
              "    }\n",
              "\n",
              "    .dataframe thead th {\n",
              "        text-align: right;\n",
              "    }\n",
              "</style>\n",
              "<table border=\"1\" class=\"dataframe\">\n",
              "  <thead>\n",
              "    <tr style=\"text-align: right;\">\n",
              "      <th></th>\n",
              "      <th>PAY_AMT1</th>\n",
              "      <th>PAY_AMT2</th>\n",
              "      <th>PAY_AMT3</th>\n",
              "      <th>PAY_AMT4</th>\n",
              "      <th>PAY_AMT5</th>\n",
              "      <th>PAY_AMT6</th>\n",
              "    </tr>\n",
              "  </thead>\n",
              "  <tbody>\n",
              "    <tr>\n",
              "      <th>count</th>\n",
              "      <td>29601.00</td>\n",
              "      <td>2.96e+04</td>\n",
              "      <td>29601.00</td>\n",
              "      <td>29601.00</td>\n",
              "      <td>29601.00</td>\n",
              "      <td>29601.00</td>\n",
              "    </tr>\n",
              "    <tr>\n",
              "      <th>mean</th>\n",
              "      <td>5649.56</td>\n",
              "      <td>5.89e+03</td>\n",
              "      <td>5198.42</td>\n",
              "      <td>4828.66</td>\n",
              "      <td>4795.03</td>\n",
              "      <td>5181.33</td>\n",
              "    </tr>\n",
              "    <tr>\n",
              "      <th>std</th>\n",
              "      <td>16568.26</td>\n",
              "      <td>2.31e+04</td>\n",
              "      <td>17580.91</td>\n",
              "      <td>15711.06</td>\n",
              "      <td>15244.22</td>\n",
              "      <td>17657.26</td>\n",
              "    </tr>\n",
              "    <tr>\n",
              "      <th>min</th>\n",
              "      <td>0.00</td>\n",
              "      <td>0.00e+00</td>\n",
              "      <td>0.00</td>\n",
              "      <td>0.00</td>\n",
              "      <td>0.00</td>\n",
              "      <td>0.00</td>\n",
              "    </tr>\n",
              "    <tr>\n",
              "      <th>25%</th>\n",
              "      <td>1000.00</td>\n",
              "      <td>8.25e+02</td>\n",
              "      <td>390.00</td>\n",
              "      <td>298.00</td>\n",
              "      <td>259.00</td>\n",
              "      <td>138.00</td>\n",
              "    </tr>\n",
              "    <tr>\n",
              "      <th>50%</th>\n",
              "      <td>2100.00</td>\n",
              "      <td>2.01e+03</td>\n",
              "      <td>1800.00</td>\n",
              "      <td>1500.00</td>\n",
              "      <td>1500.00</td>\n",
              "      <td>1500.00</td>\n",
              "    </tr>\n",
              "    <tr>\n",
              "      <th>75%</th>\n",
              "      <td>5005.00</td>\n",
              "      <td>5.00e+03</td>\n",
              "      <td>4500.00</td>\n",
              "      <td>4014.00</td>\n",
              "      <td>4042.00</td>\n",
              "      <td>4000.00</td>\n",
              "    </tr>\n",
              "    <tr>\n",
              "      <th>max</th>\n",
              "      <td>873552.00</td>\n",
              "      <td>1.68e+06</td>\n",
              "      <td>896040.00</td>\n",
              "      <td>621000.00</td>\n",
              "      <td>426529.00</td>\n",
              "      <td>528666.00</td>\n",
              "    </tr>\n",
              "  </tbody>\n",
              "</table>\n",
              "</div>"
            ],
            "text/plain": [
              "        PAY_AMT1  PAY_AMT2   PAY_AMT3   PAY_AMT4   PAY_AMT5   PAY_AMT6\n",
              "count   29601.00  2.96e+04   29601.00   29601.00   29601.00   29601.00\n",
              "mean     5649.56  5.89e+03    5198.42    4828.66    4795.03    5181.33\n",
              "std     16568.26  2.31e+04   17580.91   15711.06   15244.22   17657.26\n",
              "min         0.00  0.00e+00       0.00       0.00       0.00       0.00\n",
              "25%      1000.00  8.25e+02     390.00     298.00     259.00     138.00\n",
              "50%      2100.00  2.01e+03    1800.00    1500.00    1500.00    1500.00\n",
              "75%      5005.00  5.00e+03    4500.00    4014.00    4042.00    4000.00\n",
              "max    873552.00  1.68e+06  896040.00  621000.00  426529.00  528666.00"
            ]
          },
          "metadata": {
            "tags": []
          },
          "execution_count": 21
        }
      ]
    },
    {
      "cell_type": "code",
      "metadata": {
        "id": "hwvSfKKIzpko",
        "outputId": "90d782ac-4739-42fb-cb46-7806a4722b36",
        "colab": {
          "base_uri": "https://localhost:8080/",
          "height": 180
        }
      },
      "source": [
        "data.LIMIT_BAL.describe()"
      ],
      "execution_count": 22,
      "outputs": [
        {
          "output_type": "execute_result",
          "data": {
            "text/plain": [
              "count      29601.00\n",
              "mean      167550.54\n",
              "std       129944.02\n",
              "min        10000.00\n",
              "25%        50000.00\n",
              "50%       140000.00\n",
              "75%       240000.00\n",
              "max      1000000.00\n",
              "Name: LIMIT_BAL, dtype: float64"
            ]
          },
          "metadata": {
            "tags": []
          },
          "execution_count": 22
        }
      ]
    },
    {
      "cell_type": "code",
      "metadata": {
        "id": "2_Ez3QFEq0ZP"
      },
      "source": [
        "# plt.figure(figsize = (14,6))\n",
        "# plt.title('Amount of credit limit - Density Plot')\n",
        "# sns.set_color_codes(\"pastel\")\n",
        "# sns.distplot(data['LIMIT_BAL'],kde=True,bins=200, color=\"blue\")\n",
        "# plt.show()"
      ],
      "execution_count": 23,
      "outputs": []
    },
    {
      "cell_type": "code",
      "metadata": {
        "id": "b_M3fZ8BrBff"
      },
      "source": [
        "# data['LIMIT_BAL'].value_counts().head(10)"
      ],
      "execution_count": 24,
      "outputs": []
    },
    {
      "cell_type": "code",
      "metadata": {
        "id": "vUv4pbElzpkt"
      },
      "source": [
        "# x1 = list(data[data['Default'] == 1]['LIMIT_BAL'])\n",
        "# x2 = list(data[data['Default'] == 0]['LIMIT_BAL'])\n",
        "\n",
        "# plt.figure(figsize=(12,4))\n",
        "# sns.set_context('notebook', font_scale=1.2)\n",
        "# #sns.set_color_codes(\"pastel\")\n",
        "# plt.hist([x1, x2], bins = 40, color=['steelblue', 'lightblue'])\n",
        "# # plt.xlim([0,600000])\n",
        "# plt.legend(['Yes', 'No'], title = 'Default', loc='upper right', facecolor='white')\n",
        "# plt.xlabel('Limit Balance (NT dollar)')\n",
        "# plt.ylabel('Frequency')\n",
        "# plt.title('LIMIT BALANCE HISTOGRAM BY TYPE OF CREDIT CARD', SIZE=15)\n",
        "# plt.box(False)\n",
        "# plt.savefig('ImageName', format='png', dpi=200, transparent=True);"
      ],
      "execution_count": 25,
      "outputs": []
    },
    {
      "cell_type": "code",
      "metadata": {
        "id": "79i_3RaksjAi",
        "scrolled": true
      },
      "source": [
        "# class_1 = data.loc[data['Default'] == 1][\"LIMIT_BAL\"]\n",
        "# class_0 = data.loc[data['Default'] == 0][\"LIMIT_BAL\"]\n",
        "# plt.figure(figsize = (14,6))\n",
        "# # plt.title('Default amount of credit limit  - grouped by Payment Next Month (Density Plot)')\n",
        "# sns.set_color_codes(\"pastel\")\n",
        "# sns.distplot(class_1,kde=True,bins=200, color=\"red\")\n",
        "# sns.distplot(class_0,kde=True,bins=200, color=\"green\")\n",
        "# plt.savefig('Fig - Density plot LIMIT_BAL grouped by label.png')"
      ],
      "execution_count": 26,
      "outputs": []
    },
    {
      "cell_type": "code",
      "metadata": {
        "id": "GhUymmg5UEuV"
      },
      "source": [
        "if SHOW_FIGURE :\n",
        "    # HISTOGRAMS PLOTS FOR FEATURES IMPORTANCE\n",
        "    fig, axes= plt.subplots(6,4, figsize=(12,12))\n",
        "    non_def = data[data.Default==0]\n",
        "    default = data[data.Default==1]\n",
        "    ax = axes.ravel()\n",
        "\n",
        "    for i,label in enumerate(data.columns[:-1]):\n",
        "        _,bins = np.histogram(data[label],bins=100)\n",
        "        ax[i].hist(non_def[label],bins=bins,color='r',alpha=.5)# red color for malignant class\n",
        "        ax[i].hist(default[label],bins=bins,color='g',alpha=0.3)# alpha is for transparency in the overlapped region\n",
        "        ax[i].set_title(data.columns[i],fontsize=9)\n",
        "        ax[i].axes.get_xaxis().set_visible(True) # the x-axis co-ordinates are not so useful, as we just want to look how well separated the histograms are\n",
        "        ax[i].set_yticks(())\n",
        "\n",
        "\n",
        "    ax[0].legend(['Non Default','Default'],loc='best',fontsize=8)\n",
        "    plt.tight_layout() # let's make good plots\n",
        "    #plt.show()"
      ],
      "execution_count": 28,
      "outputs": []
    },
    {
      "cell_type": "code",
      "metadata": {
        "id": "pwg8bhsAzpk_",
        "outputId": "18089102-c95c-4734-b9a2-b695ec166d65",
        "colab": {
          "base_uri": "https://localhost:8080/",
          "height": 806
        }
      },
      "source": [
        "# Correlation matrix\n",
        "sns.set(style=\"white\", font_scale=1)\n",
        "numeric = ['LIMIT_BAL','AGE','BILL_AMT1','BILL_AMT2','BILL_AMT3', 'BILL_AMT4', 'BILL_AMT5', 'BILL_AMT6', 'PAY_AMT1','PAY_AMT2', 'PAY_AMT3', 'PAY_AMT4', 'PAY_AMT5', 'PAY_AMT6']\n",
        "corr = data[numeric].corr() # .corr is used to find corelation\n",
        "\n",
        "mask = np.triu(np.ones_like(corr, dtype=np.bool))\n",
        "f, ax = plt.subplots(figsize=(20, 13))\n",
        "cmap = sns.diverging_palette(220, 10, as_cmap=True)\n",
        "ax=sns.heatmap(corr, mask=mask, vmax=1, vmin=-1, center=0,\n",
        "            square=True, linewidths=.5, cmap=cmap, cbar_kws={\"shrink\": .5}, annot=True, annot_kws={\"size\": 10})\n",
        "cbar=ax.collections[0].colorbar\n",
        "cbar.set_ticks([-1, -0.50, 0, 0.50, 1])\n",
        "# plt.xticks(fontsize=6)\n",
        "# plt.yticks(fontsize=10)\n",
        "# plt.show()\n",
        "plt.savefig('Fig - Correlation matrix by means of the Pearson’s coefficient for all feature pairs.png')"
      ],
      "execution_count": 29,
      "outputs": [
        {
          "output_type": "display_data",
          "data": {
            "image/png": "[encoded data removed]",
            "text/plain": [
              "<Figure size 1440x936 with 2 Axes>"
            ]
          },
          "metadata": {
            "tags": []
          }
        }
      ]
    },
    {
      "cell_type": "code",
      "metadata": {
        "id": "xXyRXb8IUEug",
        "outputId": "a85461e2-c75b-4a05-9896-623a470eb157",
        "colab": {
          "base_uri": "https://localhost:8080/",
          "height": 436
        }
      },
      "source": [
        "#distribution correlated features -- scatter interaction\n",
        "import matplotlib.patches as mpatches\n",
        "\n",
        "\n",
        "data_np=data.to_numpy()\n",
        "target=data.Default\n",
        "\n",
        "# variables to \n",
        "BILL_AMT1 = data['BILL_AMT1'].to_numpy()\n",
        "BILL_AMT2 = data['BILL_AMT2'].to_numpy()\n",
        "BILL_AMT3 = data['BILL_AMT3'].to_numpy()\n",
        "BILL_AMT4 = data['BILL_AMT4'].to_numpy()\n",
        "BILL_AMT5 = data['BILL_AMT5'].to_numpy()\n",
        "BILL_AMT6 = data['BILL_AMT6'].to_numpy()\n",
        "AGE = data['AGE'].to_numpy()\n",
        "LIMIT_BAL = data['LIMIT_BAL'].to_numpy()\n",
        "PAY_AMT1 = data['PAY_AMT1'].to_numpy()\n",
        "\n",
        "fig, ax = plt.subplots(1,3, figsize= (15,6))\n",
        "\n",
        "labels=[\"Non Default\",\"Default\"]\n",
        "pop_a = mpatches.Patch(color='steelblue', label='Non Default')\n",
        "pop_b = mpatches.Patch(color='crimson', label='Default')\n",
        "colors=['crimson', 'steelblue']\n",
        "\n",
        "ax[0].scatter(BILL_AMT1, BILL_AMT2, c=target, cmap=matplotlib.colors.ListedColormap(colors), label=labels, alpha=0.5)\n",
        "ax[0].grid()\n",
        "ax[0].set_xlabel('BILL_AMT1')\n",
        "ax[0].set_ylabel('BILL_AMT2')\n",
        "ax[0].legend(handles= [pop_a,pop_b])\n",
        "\n",
        "ax[1].scatter(BILL_AMT2, BILL_AMT3, c=target, cmap=matplotlib.colors.ListedColormap(colors), alpha=0.5)\n",
        "ax[1].grid()\n",
        "ax[1].set_xlabel('BILL_AMT2')\n",
        "ax[1].set_ylabel('BILL_AMT3')\n",
        "ax[1].legend(handles= [pop_a,pop_b])\n",
        "\n",
        "ax[2].scatter(BILL_AMT4,BILL_AMT5, c=target, cmap=matplotlib.colors.ListedColormap(colors), alpha=0.5)\n",
        "ax[2].grid()\n",
        "ax[2].set_xlabel('BILL_AMT4')\n",
        "ax[2].set_ylabel('BILL_AMT5')\n",
        "ax[2].legend(handles= [pop_a,pop_b])\n",
        "\n",
        "plt.tight_layout()# let's make good plots\n",
        "plt.show()"
      ],
      "execution_count": 31,
      "outputs": [
        {
          "output_type": "display_data",
          "data": {
            "image/png": "[encoded data removed]",
            "text/plain": [
              "<Figure size 1080x432 with 3 Axes>"
            ]
          },
          "metadata": {
            "tags": []
          }
        }
      ]
    },
    {
      "cell_type": "code",
      "metadata": {
        "id": "nk3cBZ7GUEuk"
      },
      "source": [
        "#distribution un-correlated features -- scatter interaction\n",
        "\n",
        "fig, ax = plt.subplots(1,3, figsize= (15,6))\n",
        "\n",
        "labels=[\"Non Default\",\"Default\"]\n",
        "pop_a = mpatches.Patch(color='steelblue', label='Non Default')\n",
        "pop_b = mpatches.Patch(color='crimson', label='Default')\n",
        "colors=['crimson', 'steelblue']\n",
        "\n",
        "ax[0].scatter(AGE, LIMIT_BAL, c=target, cmap=matplotlib.colors.ListedColormap(colors), label=labels, alpha=0.5)\n",
        "ax[0].grid()\n",
        "ax[0].set_xlabel('AGE')\n",
        "ax[0].set_ylabel('LIMIT_BAL')\n",
        "ax[0].legend(handles= [pop_a,pop_b])\n",
        "\n",
        "ax[1].scatter(AGE, BILL_AMT1, c=target, cmap=matplotlib.colors.ListedColormap(colors), alpha=0.5)\n",
        "ax[1].grid()\n",
        "ax[1].set_xlabel('AGE')\n",
        "ax[1].set_ylabel('BILL_AMT1')\n",
        "ax[1].legend(handles= [pop_a,pop_b])\n",
        "\n",
        "ax[2].scatter(PAY_AMT1,BILL_AMT1, c=target, cmap=matplotlib.colors.ListedColormap(colors), alpha=0.5)\n",
        "ax[2].grid()\n",
        "ax[2].set_xlabel('PAY_AMT1')\n",
        "ax[2].set_ylabel('BILL_AMT1')\n",
        "ax[2].legend(handles= [pop_a,pop_b])\n",
        "\n",
        "plt.tight_layout()# let's make good plots\n",
        "plt.show()"
      ],
      "execution_count": null,
      "outputs": []
    },
    {
      "cell_type": "code",
      "metadata": {
        "id": "R_AK9qe4UEuo",
        "outputId": "ab9416ea-a8e5-48a1-b8df-0248929de466",
        "colab": {
          "base_uri": "https://localhost:8080/",
          "height": 913
        }
      },
      "source": [
        "scaler = MinMaxScaler()\n",
        "data['LIMIT_BAL'] = scaler.fit_transform(data['LIMIT_BAL'].values.reshape(-1, 1))\n",
        "data['AGE'] = scaler.fit_transform(data['AGE'].values.reshape(-1, 1))\n",
        "\n",
        "for i in range(1,7):\n",
        "    scaler = MinMaxScaler()\n",
        "    data['PAY_' + str(i)] = scaler.fit_transform(data['PAY_' + str(i)].values.reshape(-1, 1))\n",
        "\n",
        "for i in range(1,7):\n",
        "    scaler = MinMaxScaler()\n",
        "    data['BILL_AMT' + str(i)] = scaler.fit_transform(data['BILL_AMT' + str(i)].values.reshape(-1, 1))\n",
        "\n",
        "for i in range(1,7):\n",
        "    scaler = MinMaxScaler()\n",
        "    data['PAY_AMT' + str(i)] = scaler.fit_transform(data['PAY_AMT' + str(i)].values.reshape(-1, 1))\n",
        "    \n",
        "# BOXPLOT\n",
        "cols = ['LIMIT_BAL','AGE','BILL_AMT1','BILL_AMT2','BILL_AMT3', 'BILL_AMT4', 'BILL_AMT5', 'BILL_AMT6', 'PAY_AMT1','PAY_AMT2', 'PAY_AMT3', 'PAY_AMT4', 'PAY_AMT5', 'PAY_AMT6']\n",
        "\n",
        "fig=plt.figure(1, figsize=(25,15))\n",
        "ax=fig.add_subplot(111)\n",
        "sns.boxplot(data=data[cols])\n",
        "plt.xticks(np.arange(0,14), labels=cols, rotation=25, fontsize=18)\n",
        "plt.yticks(fontsize=18)\n",
        "# plt.title('Boxplot', fontsize= 35)\n",
        "\n",
        "plt.savefig('Fig - Boxplot')"
      ],
      "execution_count": 32,
      "outputs": [
        {
          "output_type": "display_data",
          "data": {
            "image/png": "[encoded data removed]",
            "text/plain": [
              "<Figure size 1800x1080 with 1 Axes>"
            ]
          },
          "metadata": {
            "tags": []
          }
        }
      ]
    },
    {
      "cell_type": "markdown",
      "metadata": {
        "id": "YsCj4PstUEux"
      },
      "source": [
        "#### Standardization\n",
        "\n",
        "Another possible scaling technique is referred to as **standardization**, which transforms each value $x$ of feature $X$ as follows, independently for each column:\n",
        "\n",
        "\\begin{equation}\n",
        "x^{\\prime} =\\frac{x-\\mu _{X}}{\\sigma _{X}}\n",
        "\\end{equation}\n",
        "\n",
        "where $\\mu_{X}$ is the sample mean and $\\sigma_{X}$ is the sample standard deviation of feature $X$. This way, we force each attribute to have a new empirical mean value of 0 and variance 1.\n"
      ]
    },
    {
      "cell_type": "code",
      "metadata": {
        "id": "FafXsX07UEuy",
        "outputId": "41ff97b1-e293-4af6-de53-b1871e1b2a14",
        "colab": {
          "base_uri": "https://localhost:8080/",
          "height": 913
        }
      },
      "source": [
        "# Standard Scaler\n",
        "from sklearn.preprocessing import StandardScaler\n",
        "scaler = StandardScaler()\n",
        "scaled_data = scaler.fit_transform(data)\n",
        "\n",
        "# BOXPLOT\n",
        "cols = ['LIMIT_BAL','AGE','BILL_AMT1','BILL_AMT2','BILL_AMT3', 'BILL_AMT4', 'BILL_AMT5', 'BILL_AMT6', 'PAY_AMT1','PAY_AMT2', 'PAY_AMT3', 'PAY_AMT4', 'PAY_AMT5', 'PAY_AMT6']\n",
        "\n",
        "fig=plt.figure(1, figsize=(25,15))\n",
        "ax=fig.add_subplot(111)\n",
        "sns.boxplot(data=scaled_data[:,:-10])\n",
        "plt.xticks(np.arange(0,14), labels=cols, rotation=25, fontsize=18)\n",
        "plt.yticks(fontsize=18)\n",
        "# plt.title('Boxplot', fontsize= 35)\n",
        "\n",
        "plt.savefig('Fig - Boxplot Std Scaler')"
      ],
      "execution_count": 34,
      "outputs": [
        {
          "output_type": "display_data",
          "data": {
            "image/png": "[encoded data removed]",
            "text/plain": [
              "<Figure size 1800x1080 with 1 Axes>"
            ]
          },
          "metadata": {
            "tags": []
          }
        }
      ]
    },
    {
      "cell_type": "markdown",
      "metadata": {
        "id": "L0jdlMRazplY"
      },
      "source": [
        "## 3. Data Preprocessing"
      ]
    },
    {
      "cell_type": "code",
      "metadata": {
        "id": "v66pw7H9qxYH",
        "scrolled": false,
        "outputId": "275a450e-f90c-4606-fb4d-ddbdefb3e5e4",
        "colab": {
          "base_uri": "https://localhost:8080/",
          "height": 217
        }
      },
      "source": [
        "# Set 'category' type to categorical attributes\n",
        "for att in ['SEX', 'EDUCATION', 'MARRIAGE']:\n",
        "  data[att] = data[att].astype('category')\n",
        "\n",
        "# one-hot encoding\n",
        "data=pd.concat([pd.get_dummies(data['SEX'], prefix='SEX'),\n",
        "                pd.get_dummies(data['EDUCATION'], prefix='EDUCATION'), \n",
        "                pd.get_dummies(data['MARRIAGE'], prefix='MARRIAGE'),\n",
        "                data],axis=1)\n",
        "# drop original columns\n",
        "data.drop(['EDUCATION'],axis=1, inplace=True)\n",
        "data.drop(['SEX'],axis=1, inplace=True)\n",
        "data.drop(['MARRIAGE'],axis=1, inplace=True)\n",
        "# print samples\n",
        "data.head()"
      ],
      "execution_count": 36,
      "outputs": [
        {
          "output_type": "execute_result",
          "data": {
            "text/html": [
              "<div>\n",
              "<style scoped>\n",
              "    .dataframe tbody tr th:only-of-type {\n",
              "        vertical-align: middle;\n",
              "    }\n",
              "\n",
              "    .dataframe tbody tr th {\n",
              "        vertical-align: top;\n",
              "    }\n",
              "\n",
              "    .dataframe thead th {\n",
              "        text-align: right;\n",
              "    }\n",
              "</style>\n",
              "<table border=\"1\" class=\"dataframe\">\n",
              "  <thead>\n",
              "    <tr style=\"text-align: right;\">\n",
              "      <th></th>\n",
              "      <th>SEX_1</th>\n",
              "      <th>SEX_2</th>\n",
              "      <th>EDUCATION_1</th>\n",
              "      <th>EDUCATION_2</th>\n",
              "      <th>EDUCATION_3</th>\n",
              "      <th>EDUCATION_4</th>\n",
              "      <th>MARRIAGE_1</th>\n",
              "      <th>MARRIAGE_2</th>\n",
              "      <th>MARRIAGE_3</th>\n",
              "      <th>LIMIT_BAL</th>\n",
              "      <th>AGE</th>\n",
              "      <th>PAY_1</th>\n",
              "      <th>PAY_2</th>\n",
              "      <th>PAY_3</th>\n",
              "      <th>PAY_4</th>\n",
              "      <th>PAY_5</th>\n",
              "      <th>PAY_6</th>\n",
              "      <th>BILL_AMT1</th>\n",
              "      <th>BILL_AMT2</th>\n",
              "      <th>BILL_AMT3</th>\n",
              "      <th>BILL_AMT4</th>\n",
              "      <th>BILL_AMT5</th>\n",
              "      <th>BILL_AMT6</th>\n",
              "      <th>PAY_AMT1</th>\n",
              "      <th>PAY_AMT2</th>\n",
              "      <th>PAY_AMT3</th>\n",
              "      <th>PAY_AMT4</th>\n",
              "      <th>PAY_AMT5</th>\n",
              "      <th>PAY_AMT6</th>\n",
              "      <th>Default</th>\n",
              "    </tr>\n",
              "  </thead>\n",
              "  <tbody>\n",
              "    <tr>\n",
              "      <th>0</th>\n",
              "      <td>0</td>\n",
              "      <td>1</td>\n",
              "      <td>0</td>\n",
              "      <td>1</td>\n",
              "      <td>0</td>\n",
              "      <td>0</td>\n",
              "      <td>1</td>\n",
              "      <td>0</td>\n",
              "      <td>0</td>\n",
              "      <td>0.01</td>\n",
              "      <td>0.05</td>\n",
              "      <td>0.4</td>\n",
              "      <td>0.4</td>\n",
              "      <td>0.0</td>\n",
              "      <td>0.0</td>\n",
              "      <td>0.0</td>\n",
              "      <td>0.0</td>\n",
              "      <td>0.15</td>\n",
              "      <td>0.07</td>\n",
              "      <td>0.09</td>\n",
              "      <td>0.16</td>\n",
              "      <td>0.08</td>\n",
              "      <td>0.26</td>\n",
              "      <td>0.00e+00</td>\n",
              "      <td>4.09e-04</td>\n",
              "      <td>0.00e+00</td>\n",
              "      <td>0.00e+00</td>\n",
              "      <td>0.00e+00</td>\n",
              "      <td>0.00e+00</td>\n",
              "      <td>1</td>\n",
              "    </tr>\n",
              "    <tr>\n",
              "      <th>1</th>\n",
              "      <td>0</td>\n",
              "      <td>1</td>\n",
              "      <td>0</td>\n",
              "      <td>1</td>\n",
              "      <td>0</td>\n",
              "      <td>0</td>\n",
              "      <td>0</td>\n",
              "      <td>1</td>\n",
              "      <td>0</td>\n",
              "      <td>0.11</td>\n",
              "      <td>0.09</td>\n",
              "      <td>0.0</td>\n",
              "      <td>0.4</td>\n",
              "      <td>0.2</td>\n",
              "      <td>0.2</td>\n",
              "      <td>0.2</td>\n",
              "      <td>0.4</td>\n",
              "      <td>0.15</td>\n",
              "      <td>0.07</td>\n",
              "      <td>0.09</td>\n",
              "      <td>0.16</td>\n",
              "      <td>0.08</td>\n",
              "      <td>0.26</td>\n",
              "      <td>0.00e+00</td>\n",
              "      <td>5.94e-04</td>\n",
              "      <td>1.12e-03</td>\n",
              "      <td>1.61e-03</td>\n",
              "      <td>0.00e+00</td>\n",
              "      <td>3.78e-03</td>\n",
              "      <td>1</td>\n",
              "    </tr>\n",
              "    <tr>\n",
              "      <th>2</th>\n",
              "      <td>0</td>\n",
              "      <td>1</td>\n",
              "      <td>0</td>\n",
              "      <td>1</td>\n",
              "      <td>0</td>\n",
              "      <td>0</td>\n",
              "      <td>0</td>\n",
              "      <td>1</td>\n",
              "      <td>0</td>\n",
              "      <td>0.08</td>\n",
              "      <td>0.22</td>\n",
              "      <td>0.2</td>\n",
              "      <td>0.2</td>\n",
              "      <td>0.2</td>\n",
              "      <td>0.2</td>\n",
              "      <td>0.2</td>\n",
              "      <td>0.2</td>\n",
              "      <td>0.17</td>\n",
              "      <td>0.08</td>\n",
              "      <td>0.09</td>\n",
              "      <td>0.17</td>\n",
              "      <td>0.10</td>\n",
              "      <td>0.27</td>\n",
              "      <td>1.74e-03</td>\n",
              "      <td>8.91e-04</td>\n",
              "      <td>1.12e-03</td>\n",
              "      <td>1.61e-03</td>\n",
              "      <td>2.34e-03</td>\n",
              "      <td>9.46e-03</td>\n",
              "      <td>0</td>\n",
              "    </tr>\n",
              "    <tr>\n",
              "      <th>3</th>\n",
              "      <td>0</td>\n",
              "      <td>1</td>\n",
              "      <td>0</td>\n",
              "      <td>1</td>\n",
              "      <td>0</td>\n",
              "      <td>0</td>\n",
              "      <td>1</td>\n",
              "      <td>0</td>\n",
              "      <td>0</td>\n",
              "      <td>0.04</td>\n",
              "      <td>0.28</td>\n",
              "      <td>0.2</td>\n",
              "      <td>0.2</td>\n",
              "      <td>0.2</td>\n",
              "      <td>0.2</td>\n",
              "      <td>0.2</td>\n",
              "      <td>0.2</td>\n",
              "      <td>0.19</td>\n",
              "      <td>0.11</td>\n",
              "      <td>0.11</td>\n",
              "      <td>0.19</td>\n",
              "      <td>0.11</td>\n",
              "      <td>0.28</td>\n",
              "      <td>2.29e-03</td>\n",
              "      <td>1.20e-03</td>\n",
              "      <td>1.34e-03</td>\n",
              "      <td>1.77e-03</td>\n",
              "      <td>2.51e-03</td>\n",
              "      <td>1.89e-03</td>\n",
              "      <td>0</td>\n",
              "    </tr>\n",
              "    <tr>\n",
              "      <th>4</th>\n",
              "      <td>1</td>\n",
              "      <td>0</td>\n",
              "      <td>0</td>\n",
              "      <td>1</td>\n",
              "      <td>0</td>\n",
              "      <td>0</td>\n",
              "      <td>1</td>\n",
              "      <td>0</td>\n",
              "      <td>0</td>\n",
              "      <td>0.04</td>\n",
              "      <td>0.62</td>\n",
              "      <td>0.0</td>\n",
              "      <td>0.2</td>\n",
              "      <td>0.0</td>\n",
              "      <td>0.2</td>\n",
              "      <td>0.2</td>\n",
              "      <td>0.2</td>\n",
              "      <td>0.15</td>\n",
              "      <td>0.07</td>\n",
              "      <td>0.11</td>\n",
              "      <td>0.18</td>\n",
              "      <td>0.10</td>\n",
              "      <td>0.28</td>\n",
              "      <td>2.29e-03</td>\n",
              "      <td>2.18e-02</td>\n",
              "      <td>1.12e-02</td>\n",
              "      <td>1.45e-02</td>\n",
              "      <td>1.62e-03</td>\n",
              "      <td>1.28e-03</td>\n",
              "      <td>0</td>\n",
              "    </tr>\n",
              "  </tbody>\n",
              "</table>\n",
              "</div>"
            ],
            "text/plain": [
              "   SEX_1  SEX_2  EDUCATION_1  EDUCATION_2  ...  PAY_AMT4  PAY_AMT5  PAY_AMT6  Default\n",
              "0      0      1            0            1  ...  0.00e+00  0.00e+00  0.00e+00        1\n",
              "1      0      1            0            1  ...  1.61e-03  0.00e+00  3.78e-03        1\n",
              "2      0      1            0            1  ...  1.61e-03  2.34e-03  9.46e-03        0\n",
              "3      0      1            0            1  ...  1.77e-03  2.51e-03  1.89e-03        0\n",
              "4      1      0            0            1  ...  1.45e-02  1.62e-03  1.28e-03        0\n",
              "\n",
              "[5 rows x 30 columns]"
            ]
          },
          "metadata": {
            "tags": []
          },
          "execution_count": 36
        }
      ]
    },
    {
      "cell_type": "code",
      "metadata": {
        "id": "32BQbKfAUEvB"
      },
      "source": [
        "# Separating features and target\n",
        "y = data.Default     # target default=1 or non-default=0\n",
        "X = data.drop('Default', axis = 1, inplace = False)"
      ],
      "execution_count": 37,
      "outputs": []
    },
    {
      "cell_type": "code",
      "metadata": {
        "id": "EpoqlyxKUEvG",
        "outputId": "fee85351-eaf1-49fd-a29c-33850ad4de19",
        "colab": {
          "base_uri": "https://localhost:8080/",
          "height": 72
        }
      },
      "source": [
        "# Check data set dimension\n",
        "print(X.shape)\n",
        "print(\"Number of samples:\", X.shape[0])\n",
        "print(\"Number of attributes:\", X.shape[1])"
      ],
      "execution_count": 38,
      "outputs": [
        {
          "output_type": "stream",
          "text": [
            "(29601, 29)\n",
            "Number of samples: 29601\n",
            "Number of attributes: 29\n"
          ],
          "name": "stdout"
        }
      ]
    },
    {
      "cell_type": "code",
      "metadata": {
        "id": "hD6YDubaqxpU"
      },
      "source": [
        "from sklearn.model_selection import train_test_split\n",
        "\n",
        "X_train_val, X_test, y_train_val, y_test = train_test_split(X, y, test_size=0.25, random_state=RANDOM_STATE, stratify=y)"
      ],
      "execution_count": 39,
      "outputs": []
    },
    {
      "cell_type": "code",
      "metadata": {
        "id": "Au4tzO-zqxa5",
        "outputId": "06f8ad8d-2542-4704-e16b-364982494c3a",
        "colab": {
          "base_uri": "https://localhost:8080/",
          "height": 162
        }
      },
      "source": [
        "# Check dimensions\n",
        "print(np.shape(X_train_val))\n",
        "print(np.shape(X_test))\n",
        "\n",
        "print(\"Training set:\")\n",
        "print(f\" + Non-defaulters (y=0): {len(y_train_val[y_train_val==0])}\")\n",
        "print(f\" + Defaulters (y=1):\\t {len(y_train_val[y_train_val==1])}\")\n",
        "\n",
        "print(\"Test set:\")\n",
        "print(f\" + Non-defaulters (y=0): {len(y_test[y_test==0])}\")\n",
        "print(f\" + Defaulters (y=1):\\t {len(y_test[y_test==1])}\")"
      ],
      "execution_count": 40,
      "outputs": [
        {
          "output_type": "stream",
          "text": [
            "(22200, 29)\n",
            "(7401, 29)\n",
            "Training set:\n",
            " + Non-defaulters (y=0): 17246\n",
            " + Defaulters (y=1):\t 4954\n",
            "Test set:\n",
            " + Non-defaulters (y=0): 5750\n",
            " + Defaulters (y=1):\t 1651\n"
          ],
          "name": "stdout"
        }
      ]
    },
    {
      "cell_type": "code",
      "metadata": {
        "id": "FB5AUHsQUEvS"
      },
      "source": [
        "if FEATURE_SELECTION :\n",
        "    # remove features with correlation coefficent >= 0.93\n",
        "    upper = corr.where(np.triu(np.ones(corr.shape), k=1).astype(np.bool))\n",
        "    to_drop = [column for column in upper.columns if any(upper[column] >= 0.92)]\n",
        "    print(to_drop) #['BILL_AMT2', 'BILL_AMT3', 'BILL_AMT4', 'BILL_AMT5', 'BILL_AMT6']\n",
        "    data= data.drop(data[to_drop], axis = 1)"
      ],
      "execution_count": 41,
      "outputs": []
    },
    {
      "cell_type": "code",
      "metadata": {
        "id": "A_u9zFxDUEvZ",
        "outputId": "a6899cc3-0f4a-4db6-d21e-59c7333d1190",
        "colab": {
          "base_uri": "https://localhost:8080/",
          "height": 357
        }
      },
      "source": [
        "from sklearn.decomposition import PCA\n",
        "\n",
        "print(f\"Actual number of components: {len(X_train_val.columns.values)}\")\n",
        "\n",
        "n_pc = len(X_train_val.columns.values) # with n_components = 11 -> 0.98693009 variance explained\n",
        "\n",
        "pca = PCA(n_components=n_pc)\n",
        "pca.fit(X_train_val)\n",
        "\n",
        "# print(np.cumsum(pca.explained_variance_ratio_))\n",
        "# print(pca.explained_variance_ratio_)\n",
        "\n",
        "fig=plt.figure(1, figsize=(10,5))\n",
        "plt.grid(b=True, which='major', axis='both')\n",
        "plt.plot(pca.explained_variance_ratio_, marker='o', color='#20c8b8')\n",
        "plt.plot(np.cumsum(pca.explained_variance_ratio_), marker='o', color='#e8a000')\n",
        "# plt.xticks([n for n in range(0,n_pc)], [ \"PC\"+str(n) for n in range(1,n_pc+1)])\n",
        "plt.legend([\"Variance explained by a single component\", \"Cumulative variance explained\"])\n",
        "plt.xlabel('Number of principal components')\n",
        "plt.ylabel('Variance Explained')\n",
        "plt.savefig(\"PCA\");"
      ],
      "execution_count": 42,
      "outputs": [
        {
          "output_type": "stream",
          "text": [
            "Actual number of components: 29\n"
          ],
          "name": "stdout"
        },
        {
          "output_type": "display_data",
          "data": {
            "image/png": "[encoded data removed]",
            "text/plain": [
              "<Figure size 720x360 with 1 Axes>"
            ]
          },
          "metadata": {
            "tags": []
          }
        }
      ]
    },
    {
      "cell_type": "code",
      "metadata": {
        "id": "aZ1rRp8VUEvc",
        "outputId": "243296fd-04b6-4d79-9878-0ac5b5f02c16",
        "colab": {
          "base_uri": "https://localhost:8080/",
          "height": 197
        }
      },
      "source": [
        "n_pc = 12\n",
        "pca = PCA(n_components=n_pc)\n",
        "pca.fit(X_train_val)\n",
        "#   X_train_val.index = pd.RangeIndex(start=0, stop=len(X_train_val), step=1)\n",
        "X_12d_train_val = pd.DataFrame(pca.transform(X_train_val))\n",
        "X_12d_test = pd.DataFrame(pca.transform(X_test))\n",
        "X_12d_train_val.columns = ['PC' + str(i) for i in range(1, n_pc+1) ]\n",
        "X_12d_test.columns = ['PC' + str(i) for i in range(1, n_pc+1) ]\n",
        "X_12d_train_val.head()"
      ],
      "execution_count": 43,
      "outputs": [
        {
          "output_type": "execute_result",
          "data": {
            "text/html": [
              "<div>\n",
              "<style scoped>\n",
              "    .dataframe tbody tr th:only-of-type {\n",
              "        vertical-align: middle;\n",
              "    }\n",
              "\n",
              "    .dataframe tbody tr th {\n",
              "        vertical-align: top;\n",
              "    }\n",
              "\n",
              "    .dataframe thead th {\n",
              "        text-align: right;\n",
              "    }\n",
              "</style>\n",
              "<table border=\"1\" class=\"dataframe\">\n",
              "  <thead>\n",
              "    <tr style=\"text-align: right;\">\n",
              "      <th></th>\n",
              "      <th>PC1</th>\n",
              "      <th>PC2</th>\n",
              "      <th>PC3</th>\n",
              "      <th>PC4</th>\n",
              "      <th>PC5</th>\n",
              "      <th>PC6</th>\n",
              "      <th>PC7</th>\n",
              "      <th>PC8</th>\n",
              "      <th>PC9</th>\n",
              "      <th>PC10</th>\n",
              "      <th>PC11</th>\n",
              "      <th>PC12</th>\n",
              "    </tr>\n",
              "  </thead>\n",
              "  <tbody>\n",
              "    <tr>\n",
              "      <th>0</th>\n",
              "      <td>1.15</td>\n",
              "      <td>0.53</td>\n",
              "      <td>0.42</td>\n",
              "      <td>-0.20</td>\n",
              "      <td>0.05</td>\n",
              "      <td>-0.06</td>\n",
              "      <td>-0.03</td>\n",
              "      <td>8.00e-03</td>\n",
              "      <td>-1.02e-01</td>\n",
              "      <td>-0.12</td>\n",
              "      <td>0.13</td>\n",
              "      <td>-9.53e-03</td>\n",
              "    </tr>\n",
              "    <tr>\n",
              "      <th>1</th>\n",
              "      <td>0.17</td>\n",
              "      <td>-0.67</td>\n",
              "      <td>-0.82</td>\n",
              "      <td>-0.04</td>\n",
              "      <td>0.04</td>\n",
              "      <td>0.37</td>\n",
              "      <td>-0.10</td>\n",
              "      <td>4.24e-02</td>\n",
              "      <td>-4.01e-03</td>\n",
              "      <td>-0.07</td>\n",
              "      <td>-0.01</td>\n",
              "      <td>-8.76e-03</td>\n",
              "    </tr>\n",
              "    <tr>\n",
              "      <th>2</th>\n",
              "      <td>-0.87</td>\n",
              "      <td>-0.29</td>\n",
              "      <td>0.56</td>\n",
              "      <td>0.85</td>\n",
              "      <td>-0.28</td>\n",
              "      <td>-0.02</td>\n",
              "      <td>-0.27</td>\n",
              "      <td>1.47e-01</td>\n",
              "      <td>2.03e-01</td>\n",
              "      <td>-0.08</td>\n",
              "      <td>-0.11</td>\n",
              "      <td>-2.49e-02</td>\n",
              "    </tr>\n",
              "    <tr>\n",
              "      <th>3</th>\n",
              "      <td>-0.52</td>\n",
              "      <td>-0.38</td>\n",
              "      <td>0.93</td>\n",
              "      <td>-0.31</td>\n",
              "      <td>0.71</td>\n",
              "      <td>-0.10</td>\n",
              "      <td>0.09</td>\n",
              "      <td>-7.04e-02</td>\n",
              "      <td>2.04e-02</td>\n",
              "      <td>-0.09</td>\n",
              "      <td>-0.05</td>\n",
              "      <td>3.32e-03</td>\n",
              "    </tr>\n",
              "    <tr>\n",
              "      <th>4</th>\n",
              "      <td>-1.07</td>\n",
              "      <td>-0.25</td>\n",
              "      <td>-0.30</td>\n",
              "      <td>-0.23</td>\n",
              "      <td>0.24</td>\n",
              "      <td>0.39</td>\n",
              "      <td>-0.03</td>\n",
              "      <td>-9.61e-03</td>\n",
              "      <td>3.43e-02</td>\n",
              "      <td>-0.20</td>\n",
              "      <td>0.11</td>\n",
              "      <td>-1.48e-04</td>\n",
              "    </tr>\n",
              "  </tbody>\n",
              "</table>\n",
              "</div>"
            ],
            "text/plain": [
              "    PC1   PC2   PC3   PC4   PC5  ...       PC8       PC9  PC10  PC11      PC12\n",
              "0  1.15  0.53  0.42 -0.20  0.05  ...  8.00e-03 -1.02e-01 -0.12  0.13 -9.53e-03\n",
              "1  0.17 -0.67 -0.82 -0.04  0.04  ...  4.24e-02 -4.01e-03 -0.07 -0.01 -8.76e-03\n",
              "2 -0.87 -0.29  0.56  0.85 -0.28  ...  1.47e-01  2.03e-01 -0.08 -0.11 -2.49e-02\n",
              "3 -0.52 -0.38  0.93 -0.31  0.71  ... -7.04e-02  2.04e-02 -0.09 -0.05  3.32e-03\n",
              "4 -1.07 -0.25 -0.30 -0.23  0.24  ... -9.61e-03  3.43e-02 -0.20  0.11 -1.48e-04\n",
              "\n",
              "[5 rows x 12 columns]"
            ]
          },
          "metadata": {
            "tags": []
          },
          "execution_count": 43
        }
      ]
    },
    {
      "cell_type": "code",
      "metadata": {
        "id": "3R3nEJcZUEvg",
        "outputId": "bfcd3d8a-ce85-4a62-a04d-acebf658c0c8",
        "colab": {
          "base_uri": "https://localhost:8080/",
          "height": 108
        }
      },
      "source": [
        "APPLY_PCA = True\n",
        "\n",
        "if APPLY_PCA: \n",
        "    X_train_val = X_12d_train_val\n",
        "    X_test = X_12d_test\n",
        "    print(X_12d_train_val.shape)\n",
        "    print(X_12d_test.shape)\n",
        "    \n",
        "print(f\"PCA APPLIED: {APPLY_PCA}\")\n",
        "print(X_train_val.shape)\n",
        "print(X_test.shape)"
      ],
      "execution_count": 44,
      "outputs": [
        {
          "output_type": "stream",
          "text": [
            "(22200, 12)\n",
            "(7401, 12)\n",
            "PCA APPLIED: True\n",
            "(22200, 12)\n",
            "(7401, 12)\n"
          ],
          "name": "stdout"
        }
      ]
    },
    {
      "cell_type": "code",
      "metadata": {
        "id": "ytPQp9rtUEvp"
      },
      "source": [
        "import imblearn \n",
        "from imblearn.over_sampling import SMOTE\n",
        "from imblearn.pipeline import make_pipeline\n",
        "\n",
        "import sklearn.ensemble\n",
        "from sklearn.discriminant_analysis import LinearDiscriminantAnalysis\n",
        "from sklearn.model_selection import StratifiedKFold\n",
        "from sklearn.ensemble import RandomForestClassifier\n",
        "from sklearn.model_selection import cross_val_score\n",
        "from sklearn.model_selection import GridSearchCV\n",
        "from sklearn.tree import DecisionTreeClassifier\n",
        "from sklearn.svm import SVC, LinearSVC\n",
        "from sklearn.metrics import f1_score, make_scorer, precision_score, recall_score, accuracy_score, plot_confusion_matrix\n",
        "from sklearn.svm import LinearSVC, SVC\n",
        "from sklearn.neighbors import KNeighborsClassifier\n",
        "\n",
        "ALGORITHM = 'SVM' # 'RandomForest', 'LogisticRegression'\n",
        "APPLY_OVERSAMPLING = False\n",
        "APPLY_UNDERSAMPLING = False"
      ],
      "execution_count": 61,
      "outputs": []
    },
    {
      "cell_type": "code",
      "metadata": {
        "id": "IQrMhPttUEvr",
        "outputId": "d86a7fdf-0192-42af-cf78-700aa7a38ab8",
        "colab": {
          "base_uri": "https://localhost:8080/",
          "height": 182
        }
      },
      "source": [
        "# TRAIN AND VALIDATION\n",
        "# Stratified K-Fold Cross Validation\n",
        "\n",
        "# Pipeline\n",
        "if ALGORITHM == 'SVM' : \n",
        "    # Support Vector Machine (SVM) classifier\n",
        "    parameter_grid = {'C': [1], 'gamma': [0.01], 'kernel': ['poly']} #0.7963817277250114\n",
        "#        'C': [100] # ,0.1, 1, 10],\n",
        "#         'kernel': ['rbf', 'poly'],\n",
        "#         'gamma': [0.0001, 0.001, 0.01]\n",
        "#    }\n",
        "    clf_name = 'svc__'\n",
        "    classifier = SVC() # or SVC\n",
        "    \n",
        "elif ALGORITHM == 'RandomForest':\n",
        "    # Random Forest classifier\n",
        "    parameter_grid = {\n",
        "        \"criterion\":[\"gini\", \"entropy\"],\n",
        "        \"max_features\":[None, \"sqrt\"],\n",
        "        \"oob_score\":[True],\n",
        "        \"n_estimators\":[10, 50, 100, 200]\n",
        "    }\n",
        "    clf_name = 'randomforestclassifier__'\n",
        "    classifier = RandomForestClassifier()\n",
        "    \n",
        "elif ALGORITHM == 'LogisticRegression':\n",
        "    # Logistic Regression classifier\n",
        "    parameter_grid = {\n",
        "        \"C\":[0.0001, 0.001, 0.01, 0.1, 1, 10]\n",
        "    }\n",
        "    clf_name = 'logisticregression__'\n",
        "    classifier = LogisticRegression()\n",
        "    \n",
        "elif ALGORITHM == 'KNN':\n",
        "    # K-Nearest Neighbors classifier\n",
        "    parameter_grid = {\n",
        "        \"n_neighbors\":[500, 800, 1500, 2500, 3500, 4500]\n",
        "    }\n",
        "    clf_name = 'kneighborsclassifier__'\n",
        "    classifier = KNeighborsClassifier() \n",
        "else :\n",
        "    raise RuntimeError(\"Choose a correct classifier.\");\n",
        "    \n",
        "\n",
        "new_params = {clf_name + key: parameter_grid[key] for key in parameter_grid}\n",
        "\n",
        "kf = StratifiedKFold(n_splits=5, random_state=RANDOM_STATE)\n",
        "\n",
        "if APPLY_OVERSAMPLING:\n",
        "    # apply oversampling on training dataset\n",
        "    imba_pipeline = make_pipeline(SMOTE(random_state=RANDOM_STATE), classifier)\n",
        "elif APPLY_UNDERSAMPLING:\n",
        "    # TO DO\n",
        "    imba_pipeline = make_pipeline(SMOTE(random_state=RANDOM_STATE), classifier)\n",
        "else :\n",
        "    # DO NOT apply oversampling on training dataset, just the classifier\n",
        "    imba_pipeline = make_pipeline(classifier)\n",
        "\n",
        "SCORE = 'accuracy' # 'precision', 'recall'\n",
        "grid_imba = GridSearchCV(imba_pipeline, param_grid=new_params, cv=kf, scoring=SCORE, return_train_score=True)\n",
        "\n",
        "grid_imba.fit(X_train_val, y_train_val)\n",
        "\n",
        "print(f\"Best configuration found for {classifier}:\")\n",
        "print(grid_imba.best_params_)\n",
        "print(f\"{SCORE}= {grid_imba.best_score_}\")"
      ],
      "execution_count": 62,
      "outputs": [
        {
          "output_type": "stream",
          "text": [
            "/usr/local/lib/python3.6/dist-packages/sklearn/model_selection/_split.py:296: FutureWarning: Setting a random_state has no effect since shuffle is False. This will raise an error in 0.24. You should leave random_state to its default (None), or set shuffle=True.\n",
            "  FutureWarning\n"
          ],
          "name": "stderr"
        },
        {
          "output_type": "stream",
          "text": [
            "Best configuration found for SVC(C=1.0, break_ties=False, cache_size=200, class_weight=None, coef0=0.0,\n",
            "    decision_function_shape='ovr', degree=3, gamma='scale', kernel='rbf',\n",
            "    max_iter=-1, probability=False, random_state=None, shrinking=True,\n",
            "    tol=0.001, verbose=False):\n",
            "{'svc__C': 1, 'svc__gamma': 0.01, 'svc__kernel': 'poly'}\n",
            "accuracy= 0.5111916539561768\n"
          ],
          "name": "stdout"
        }
      ]
    },
    {
      "cell_type": "code",
      "metadata": {
        "id": "Z_yTXCrrUEvv",
        "outputId": "3db1050a-7f46-4005-852a-2f15b0c01c6c",
        "colab": {
          "base_uri": "https://localhost:8080/",
          "height": 337
        }
      },
      "source": [
        "# TEST\n",
        "# evaluation on test data with bestparams\n",
        "\n",
        "# Oversampling\n",
        "smote = SMOTE()\n",
        "X_train_val, y_train_val = smote.fit_resample(X_train_val, y_train_val)\n",
        "\n",
        "# retrain with best params\n",
        "clf = classifier\n",
        "clf.fit(X_train_val, y_train_val)\n",
        "y_pred = clf.predict(X_test)\n",
        "\n",
        "accuracy=accuracy_score(y_test, y_pred)\n",
        "f1=f1_score(y_test, y_pred)\n",
        "precision=precision_score(y_test, y_pred)\n",
        "recall=recall_score(y_test, y_pred)\n",
        "\n",
        "print(accuracy, f1, precision, recall)\n",
        "\n",
        "# print(classification_report())\n",
        "\n",
        "disp = plot_confusion_matrix(clf, X_test, y_test,\n",
        "                                 #display_labels=class_names,\n",
        "                                 cmap=plt.cm.Blues, \n",
        "                                 #display_labels=data.target_names, \n",
        "                                 normalize='true')\n",
        "\n",
        "disp.ax_.set_title(f'normalized confusion matrix {clf_name}')\n",
        "\n"
      ],
      "execution_count": 63,
      "outputs": [
        {
          "output_type": "stream",
          "text": [
            "0.7867855695176328 0.5197808886183809 0.5223241590214067 0.5172622652937614\n"
          ],
          "name": "stdout"
        },
        {
          "output_type": "execute_result",
          "data": {
            "text/plain": [
              "Text(0.5, 1.0, 'normalized confusion matrix svc__')"
            ]
          },
          "metadata": {
            "tags": []
          },
          "execution_count": 63
        },
        {
          "output_type": "display_data",
          "data": {
            "image/png": "[encoded data removed]",
            "text/plain": [
              "<Figure size 432x288 with 2 Axes>"
            ]
          },
          "metadata": {
            "tags": []
          }
        }
      ]
    }
  ]
}